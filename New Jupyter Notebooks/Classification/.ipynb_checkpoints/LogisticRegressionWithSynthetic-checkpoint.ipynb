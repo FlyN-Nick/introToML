{
 "cells": [
  {
   "cell_type": "code",
   "execution_count": 1,
   "metadata": {},
   "outputs": [],
   "source": [
    "import numpy as np # for generating dataset \n",
    "np.set_printoptions(suppress=True) # disable scientific notation \n",
    "\n",
    "from sklearn import linear_model # for model \n",
    "\n",
    "# for displaying graphs\n",
    "%matplotlib inline\n",
    "import matplotlib.pyplot as plt"
   ]
  },
  {
   "cell_type": "code",
   "execution_count": 2,
   "metadata": {},
   "outputs": [],
   "source": [
    "NUM_INPUTS = 50 # number of inputs per class\n",
    "# average values for feature-class pairs \n",
    "PLANT_A_AVG_HEIGHT = 60.0\n",
    "PLANT_A_AVG_WIDTH = 8.0\n",
    "PLANT_B_AVG_HEIGHT = 58.0\n",
    "PLANT_B_AVG_WIDTH = 10.0\n",
    "\n",
    "# generate data randomly with a normal distribution centered around the averages\n",
    "plant_a_heights = np.random.normal(loc=PLANT_A_AVG_HEIGHT, size=NUM_INPUTS)\n",
    "plant_a_widths = np.random.normal(loc=PLANT_A_AVG_WIDTH, size=NUM_INPUTS)\n",
    "plant_b_heights = np.random.normal(loc=PLANT_B_AVG_HEIGHT, size=NUM_INPUTS)\n",
    "plant_b_widths = np.random.normal(loc=PLANT_B_AVG_WIDTH, size=NUM_INPUTS)\n",
    "\n",
    "# create a 2-dimensional matrix with heights in the first column and widths in the second\n",
    "plant_inputs = list(zip(np.append(plant_a_heights, plant_b_heights), np.append(plant_a_widths, plant_b_widths)))\n",
    "\n",
    "# generate expected values, when creating input data the first half was of one class, the second half the other, so the first half are 0s and the second half are 1s\n",
    "expected = [0]*NUM_INPUTS + [1]*NUM_INPUTS"
   ]
  },
  {
   "cell_type": "code",
   "execution_count": 3,
   "metadata": {},
   "outputs": [
    {
     "data": {
      "image/png": "[encoded data removed]",
      "text/plain": [
       "<Figure size 432x288 with 1 Axes>"
      ]
     },
     "metadata": {
      "needs_background": "light"
     },
     "output_type": "display_data"
    }
   ],
   "source": [
    "fig = plt.figure() # create figure \n",
    "fig.suptitle('Plant Data Set') # set title \n",
    "plt.xlabel('Height') # label x axis \n",
    "plt.ylabel('Width') # label y axis \n",
    "a_scatter = plt.scatter(plant_a_heights, plant_a_widths, c=\"red\", marker=\"o\", label='plant a') # scatter plant a datapoints\n",
    "b_scatter = plt.scatter(plant_b_heights, plant_b_widths, c=\"blue\", marker=\"^\", label='plant b') # scatter plant b datapoints\n",
    "plt.legend(handles=[a_scatter, b_scatter]) # add a legend \n",
    "plt.show() # show the graph"
   ]
  },
  {
   "cell_type": "code",
   "execution_count": 4,
   "metadata": {},
   "outputs": [
    {
     "name": "stdout",
     "output_type": "stream",
     "text": [
      "Intercept: [79.51155524]  Coefficients: [[-1.63829561  1.82373303]]\n"
     ]
    }
   ],
   "source": [
    "model = linear_model.LogisticRegression() # create logistic regression model\n",
    "model.fit(plant_inputs, expected) # fit model  \n",
    "print('Intercept: {0}  Coefficients: {1}'.format(model.intercept_, model.coef_)) # print fit to console "
   ]
  },
  {
   "cell_type": "code",
   "execution_count": 5,
   "metadata": {},
   "outputs": [
    {
     "name": "stdout",
     "output_type": "stream",
     "text": [
      "Class predictions: [0 1]\n",
      "Probabilities:\n",
      "[[0.9504723 0.0495277]\n",
      " [0.0036623 0.9963377]]\n"
     ]
    }
   ],
   "source": [
    "# generate a test data point for both plant a and b \n",
    "test_a_height = np.random.normal(loc=PLANT_A_AVG_HEIGHT)\n",
    "test_a_width = np.random.normal(loc=PLANT_A_AVG_WIDTH)\n",
    "test_b_height = np.random.normal(loc=PLANT_B_AVG_HEIGHT)\n",
    "test_b_width = np.random.normal(loc=PLANT_B_AVG_WIDTH)\n",
    "\n",
    "test_inputs = [[test_a_height, test_a_width], [test_b_height, test_b_width]] # put values into a matrix in the desired format \n",
    "\n",
    "# print out the outputs for these new inputs\n",
    "print('Class predictions: {0}'.format(model.predict(test_inputs))) # predict each class, expected output should be [0 1] \n",
    "print('Probabilities:\\n{0}'.format(model.predict_proba(test_inputs))) # print probability for each class "
   ]
  },
  {
   "cell_type": "markdown",
   "metadata": {},
   "source": [
    "# Exercise Option #1 - Standard Difficulty\n",
    "1. The expected output should be [0 1], because two test datapoints were generated, one for each class. If the model didn't predict this correctly, that means that the generated datapoints were likely in the overlap of the two classes. \n",
    "2. The higher probability is the class prediction. The model sould be more or less confident depending on how close the datapoint is to the average for that class. \n",
    "3. As seen below, I decreased the gap between the average values by 0.5. When looking at the graph, you can see that there is more overlap between the two classes. The predictions are still correct, but due to the classes having a lot more overlap, the probabilities of the correct predictions decreased. \n",
    "4. If a coefficient is negative, that means that if you took a datapoint and increased the value of a feature that has a negative coeficcient, the probability the model outputs for that class should decrease. Typically, the # of rows of the coefficient array should = the # of classes, and the # of collumns should = the number of features, but that is not the case for this model. That is because having two classes to predict effectively is the same as having one class to predict, so only 1 row is needed. "
   ]
  },
  {
   "cell_type": "code",
   "execution_count": 6,
   "metadata": {},
   "outputs": [
    {
     "data": {
      "image/png": "[encoded data removed]",
      "text/plain": [
       "<Figure size 432x288 with 1 Axes>"
      ]
     },
     "metadata": {
      "needs_background": "light"
     },
     "output_type": "display_data"
    },
    {
     "name": "stdout",
     "output_type": "stream",
     "text": [
      "Intercept: [79.51155524]  Coefficients: [[-1.63829561  1.82373303]]\n",
      "Class predictions: [0 1]\n",
      "Probabilities:\n",
      "[[0.99941928 0.00058072]\n",
      " [0.04549522 0.95450478]]\n"
     ]
    }
   ],
   "source": [
    "# Rerun all the code, except with the average values even closer. \n",
    "\n",
    "NEW_PLANT_A_AVG_HEIGHT = 60.0\n",
    "NEW_PLANT_A_AVG_WIDTH = 8.0\n",
    "NEW_PLANT_B_AVG_HEIGHT = 58.5\n",
    "NEW_PLANT_B_AVG_WIDTH = 9.5\n",
    "new_plant_a_heights = np.random.normal(loc=NEW_PLANT_A_AVG_HEIGHT, size=NUM_INPUTS)\n",
    "new_plant_a_widths = np.random.normal(loc=NEW_PLANT_A_AVG_WIDTH, size=NUM_INPUTS)\n",
    "new_plant_b_heights = np.random.normal(loc=NEW_PLANT_B_AVG_HEIGHT, size=NUM_INPUTS)\n",
    "new_plant_b_widths = np.random.normal(loc=NEW_PLANT_B_AVG_WIDTH, size=NUM_INPUTS)\n",
    "new_plant_inputs = list(zip(np.append(new_plant_a_heights, new_plant_b_heights), np.append(new_plant_a_widths, new_plant_b_widths)))\n",
    "new_fig = plt.figure() \n",
    "new_fig.suptitle('Plant Data Set')\n",
    "plt.xlabel('Height')\n",
    "plt.ylabel('Width') \n",
    "new_a_scatter = plt.scatter(new_plant_a_heights, new_plant_a_widths, c=\"red\", marker=\"o\", label='plant a')\n",
    "new_b_scatter = plt.scatter(new_plant_b_heights, new_plant_b_widths, c=\"blue\", marker=\"^\", label='plant b') \n",
    "plt.legend(handles=[new_a_scatter, new_b_scatter]) \n",
    "plt.show()\n",
    "new_model = linear_model.LogisticRegression()\n",
    "new_model.fit(plant_inputs, expected)   \n",
    "print('Intercept: {0}  Coefficients: {1}'.format(new_model.intercept_, new_model.coef_))\n",
    "new_test_a_height = np.random.normal(loc=NEW_PLANT_A_AVG_HEIGHT)\n",
    "new_test_a_width = np.random.normal(loc=NEW_PLANT_A_AVG_WIDTH)\n",
    "new_test_b_height = np.random.normal(loc=NEW_PLANT_B_AVG_HEIGHT)\n",
    "new_test_b_width = np.random.normal(loc=NEW_PLANT_B_AVG_WIDTH)\n",
    "new_test_inputs = [[new_test_a_height, new_test_a_width], [new_test_b_height, new_test_b_width]]\n",
    "print('Class predictions: {0}'.format(new_model.predict(new_test_inputs)))\n",
    "print('Probabilities:\\n{0}'.format(new_model.predict_proba(new_test_inputs))) "
   ]
  },
  {
   "cell_type": "markdown",
   "metadata": {},
   "source": [
    "# Exercise Option #2 - Advanced Difficulty\n",
    "\n",
    "As seen below, to try to show model fit, I graphed the dataset against the predictions of the model. If you look at the graph, it seems like the model only incorrectly predicted 5 datapoints."
   ]
  },
  {
   "cell_type": "code",
   "execution_count": 7,
   "metadata": {},
   "outputs": [
    {
     "data": {
      "image/png": "[encoded data removed]",
      "text/plain": [
       "<Figure size 432x288 with 1 Axes>"
      ]
     },
     "metadata": {},
     "output_type": "display_data"
    }
   ],
   "source": [
    "# https://scikit-learn.org/stable/auto_examples/linear_model/plot_iris_logistic.html#sphx-glr-auto-examples-linear-model-plot-iris-logistic-py\n",
    "# Got help from Huxley for this. \n",
    "\n",
    "X = np.asarray(plant_inputs) # input data, converted to numpy array \n",
    "Y = np.asarray(expected) # expected values of input data, converted to numpy array \n",
    "x1 = X[:,0] # datapoints with only first feature (out of two total features)\n",
    "x2 = X[:,1] # datapoints with only second feature (out of two total features)\n",
    "\n",
    "# get the min and max values of dataset, with 0.5 padding added \n",
    "x_min, x_max = x1.min()-0.5, x1.max()+0.5\n",
    "y_min, y_max = x2.min()-0.5, x2.max()+0.5\n",
    "step = .01  # step size in the mesh\n",
    "\n",
    "# https://numpy.org/doc/stable/reference/generated/numpy.arange.html\n",
    "# https://numpy.org/doc/stable/reference/generated/numpy.meshgrid.html\n",
    "xx, yy = np.meshgrid(np.arange(x_min, x_max, step), np.arange(y_min, y_max, step))\n",
    "# https://numpy.org/doc/stable/reference/generated/numpy.c_.html\n",
    "# https://numpy.org/doc/stable/reference/generated/numpy.ravel.html\n",
    "Z = model.predict(np.c_[xx.ravel(), yy.ravel()])\n",
    "Z = Z.reshape(xx.shape)\n",
    "\n",
    "plt.figure() # make figure \n",
    "# https://matplotlib.org/3.1.0/tutorials/colors/colormaps.html\n",
    "plt.pcolormesh(xx, yy, Z, cmap='Pastel1', shading='auto')\n",
    "\n",
    "# https://matplotlib.org/api/_as_gen/matplotlib.pyplot.scatter.html\n",
    "plt.scatter(x1, x2, c=Y, edgecolors='black', cmap=plt.cm.Paired) # plot all the training points with their expected colors\n",
    "plt.xlabel('Height') # label x-axis\n",
    "plt.ylabel('Width') # label y-axis\n",
    "\n",
    "# https://matplotlib.org/3.1.1/api/_as_gen/matplotlib.pyplot.xlim.html\n",
    "plt.xlim(x_min, x_max) # set min and max of x-axis\n",
    "plt.ylim(y_min, y_max) # set min and max of y-axis\n",
    "\n",
    "# https://matplotlib.org/api/_as_gen/matplotlib.pyplot.xticks.html\n",
    "plt.xticks(()) # remove ticks on x-axis\n",
    "plt.yticks(()) # remove ticks on y-axis\n",
    "\n",
    "plt.show() # show figure "
   ]
  },
  {
   "cell_type": "markdown",
   "metadata": {},
   "source": [
    "# Exercise Option #3 - Advanced Difficulty\n",
    "\n",
    "As seen below, I implemented my own custom one vs. rest and compared it against scikit-learn automatically doing it. The predictions ended up being the same, but the probabilities were slightly different."
   ]
  },
  {
   "cell_type": "code",
   "execution_count": 8,
   "metadata": {},
   "outputs": [
    {
     "name": "stdout",
     "output_type": "stream",
     "text": [
      "Class predictions: [0, 1, 2]\n",
      "Probabilities:\n",
      "[[0.95115421 0.29343115 0.00029244]\n",
      " [0.00347406 0.34187815 0.2485856 ]\n",
      " [0.00097557 0.33255203 0.59443243]]\n",
      "Class predictions:\n",
      "[0 1 2]\n",
      "Probabilities:\n",
      "[[0.95328822 0.04669578 0.000016  ]\n",
      " [0.00256455 0.74466321 0.25277223]\n",
      " [0.00039313 0.39955306 0.60005381]]\n"
     ]
    }
   ],
   "source": [
    "# set average values for new class, class c\n",
    "PLANT_C_AVG_HEIGHT = 56.0\n",
    "PLANT_C_AVG_WIDTH = 12\n",
    "\n",
    "# generate data for class c with normal distribution around specified average values\n",
    "plant_c_heights = np.random.normal(loc=PLANT_C_AVG_HEIGHT, size=NUM_INPUTS)\n",
    "plant_c_widths = np.random.normal(loc=PLANT_C_AVG_WIDTH, size=NUM_INPUTS)\n",
    "\n",
    "# put the data into right format matrix, heights first column and widths second column\n",
    "# https://numpy.org/doc/stable/reference/generated/numpy.append.html\n",
    "plant_inputs_three = list(zip(np.append(plant_a_heights, [plant_b_heights, plant_c_heights]), np.append(plant_a_widths, [plant_b_widths, plant_c_widths])))\n",
    "\n",
    "# generate expected values, since there are three classes and we are doing one vs. rest, we have to generate three distinct arrays\n",
    "a_expected = [0]*NUM_INPUTS + [1]*NUM_INPUTS + [1]*NUM_INPUTS\n",
    "b_expected = [1]*NUM_INPUTS + [0]*NUM_INPUTS + [1]*NUM_INPUTS\n",
    "c_expected = [1]*NUM_INPUTS + [1]*NUM_INPUTS + [0]*NUM_INPUTS\n",
    "\n",
    "# make a model for class a, b, and c against rest \n",
    "model_a = linear_model.LogisticRegression() # create logistic regression model for a vs. rest \n",
    "model_a.fit(plant_inputs_three, a_expected) # fit model  \n",
    "\n",
    "model_b = linear_model.LogisticRegression() # create logistic regression model for b vs. rest \n",
    "model_b.fit(plant_inputs_three, b_expected) # fit model  \n",
    "\n",
    "model_c = linear_model.LogisticRegression() # create logistic regression model for c vs. rest \n",
    "model_c.fit(plant_inputs_three, c_expected) # fit model  \n",
    "        \n",
    "# return probabilities for multinomial logistic regression \n",
    "def one_vs_rest_proba(inputs, models):\n",
    "    probabilities = np.empty([len(inputs), len(models)]) \n",
    "    index = 0\n",
    "    for input in inputs:\n",
    "        model_index = 0\n",
    "        for model in models:\n",
    "            probabilities[index][model_index] = model.predict_proba(input.reshape(1, -1))[0][0]\n",
    "            model_index += 1\n",
    "        index += 1\n",
    "    return probabilities \n",
    "\n",
    "# return class predictions for multinomial logistic regression \n",
    "def one_vs_rest_predict(inputs, models):\n",
    "    probabilities = np.empty([len(inputs), len(models)]) \n",
    "    predictions = []\n",
    "    index = 0 \n",
    "    for input in inputs:\n",
    "        model_index = 0\n",
    "        for model in models:\n",
    "            probabilities[index][model_index] = model.predict_proba(input.reshape(1, -1))[0][0]\n",
    "            model_index += 1\n",
    "        current_highest_probability_index = 0\n",
    "        probability_index = 0\n",
    "        for probability in probabilities[index]:\n",
    "            if probability > probabilities[index][current_highest_probability_index]:\n",
    "                current_highest_probability_index = probability_index\n",
    "            probability_index += 1\n",
    "        predictions.append(current_highest_probability_index)\n",
    "        index += 1\n",
    "    return predictions \n",
    "\n",
    "# generate a test data point for plant c (test datapoints already generated previously for plant a and b)\n",
    "test_c_height = np.random.normal(loc=PLANT_C_AVG_HEIGHT)\n",
    "test_c_width = np.random.normal(loc=PLANT_C_AVG_WIDTH)\n",
    "\n",
    "# put test data points into array  \n",
    "test_inputs_three = np.array([[test_a_height, test_a_width], [test_b_height, test_b_width], [test_c_height, test_c_width]]) # put values into a matrix in the desired format \n",
    "\n",
    "# print class predictions\n",
    "print('Class predictions: {}'.format(one_vs_rest_predict(test_inputs_three, [model_a, model_b, model_c]))) \n",
    "# print class probabilities \n",
    "print('Probabilities:\\n{}'.format(one_vs_rest_proba(test_inputs_three, [model_a, model_b, model_c]))) \n",
    "\n",
    "total_expected = [0]*NUM_INPUTS + [1]*NUM_INPUTS + [2]*NUM_INPUTS # make new expected for default multinomial logistic regression\n",
    "model_multinomial = linear_model.LogisticRegression(max_iter=1500) # create multinomial logistic regression model \n",
    "model_multinomial.fit(plant_inputs_three, total_expected) # fit model  \n",
    "\n",
    "# print class predictions \n",
    "print('Class predictions:\\n{}'.format(model_multinomial.predict(test_inputs_three))) \n",
    "# print class probabilities \n",
    "print('Probabilities:\\n{}'.format(model_multinomial.predict_proba(test_inputs_three))) \n"
   ]
  },
  {
   "cell_type": "code",
   "execution_count": null,
   "metadata": {},
   "outputs": [],
   "source": []
  }
 ],
 "metadata": {
  "kernelspec": {
   "display_name": "Python 3",
   "language": "python",
   "name": "python3"
  },
  "language_info": {
   "codemirror_mode": {
    "name": "ipython",
    "version": 3
   },
   "file_extension": ".py",
   "mimetype": "text/x-python",
   "name": "python",
   "nbconvert_exporter": "python",
   "pygments_lexer": "ipython3",
   "version": "3.8.5"
  }
 },
 "nbformat": 4,
 "nbformat_minor": 4
}
