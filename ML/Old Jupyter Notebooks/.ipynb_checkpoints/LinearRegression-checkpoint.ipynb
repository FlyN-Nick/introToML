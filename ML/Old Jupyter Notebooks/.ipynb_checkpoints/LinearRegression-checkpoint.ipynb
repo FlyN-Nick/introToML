{
 "cells": [
  {
   "cell_type": "code",
   "execution_count": 4,
   "metadata": {},
   "outputs": [],
   "source": [
    "%matplotlib inline"
   ]
  },
  {
   "cell_type": "code",
   "execution_count": 5,
   "metadata": {},
   "outputs": [],
   "source": [
    "import numpy.random # generate noisy/random data\n",
    "from sklearn import linear_model # training linear model\n",
    "\n",
    "import matplotlib.pyplot # general plotting\n",
    "from mpl_toolkits.mplot3d import Axes3D # 3d plotting\n",
    "\n",
    "import pandas as pd"
   ]
  },
  {
   "cell_type": "code",
   "execution_count": 6,
   "metadata": {},
   "outputs": [],
   "source": [
    "MIN_X = -15\n",
    "MAX_X = 15\n",
    "NUM_INPUTS = 100"
   ]
  },
  {
   "cell_type": "code",
   "execution_count": 7,
   "metadata": {},
   "outputs": [
    {
     "name": "stdout",
     "output_type": "stream",
     "text": [
      "[[ 13.85378861]\n",
      " [ 10.36047802]\n",
      " [ -0.04883714]\n",
      " [ 12.19414608]\n",
      " [  1.13736772]\n",
      " [  9.77989267]\n",
      " [-14.18148517]\n",
      " [ -2.94351213]\n",
      " [ -6.96950221]\n",
      " [  5.19661686]\n",
      " [-14.81353521]\n",
      " [  0.96241498]\n",
      " [-10.04675443]\n",
      " [ -3.27861642]\n",
      " [ -9.41526852]\n",
      " [-13.97658228]\n",
      " [ -9.00972718]\n",
      " [ -4.27213725]\n",
      " [ 13.58325711]\n",
      " [-11.72871967]\n",
      " [ -0.95477397]\n",
      " [  7.35467261]\n",
      " [ -8.88522194]\n",
      " [ 12.22563311]\n",
      " [  3.1936587 ]\n",
      " [ -7.85455514]\n",
      " [  0.82541688]\n",
      " [  9.27193064]\n",
      " [  9.8849652 ]\n",
      " [ -1.57001153]\n",
      " [ -8.47643782]\n",
      " [ -8.03651448]\n",
      " [ -3.27803315]\n",
      " [  7.02311707]\n",
      " [  0.99519389]\n",
      " [-10.62506315]\n",
      " [-10.7349402 ]\n",
      " [-10.63344799]\n",
      " [ 12.62527554]\n",
      " [ 11.36015286]\n",
      " [  7.18865129]\n",
      " [  6.63014761]\n",
      " [  5.39776146]\n",
      " [ -0.53000757]\n",
      " [ -2.78260204]\n",
      " [-10.68071038]\n",
      " [  2.10826482]\n",
      " [  8.71629892]\n",
      " [ -8.01730085]\n",
      " [  5.29409778]\n",
      " [ -9.22962185]\n",
      " [-10.26120737]\n",
      " [-13.933002  ]\n",
      " [ 12.74141818]\n",
      " [ -4.28537374]\n",
      " [ -2.60462048]\n",
      " [ -1.75216219]\n",
      " [-12.14375845]\n",
      " [-10.14574738]\n",
      " [-14.15919285]\n",
      " [-10.30453692]\n",
      " [ 14.14423924]\n",
      " [-14.13208664]\n",
      " [ -7.9678275 ]\n",
      " [  6.9147157 ]\n",
      " [ -2.20864053]\n",
      " [  2.5531987 ]\n",
      " [ -3.71596264]\n",
      " [  8.75123331]\n",
      " [ 10.84583988]\n",
      " [  1.45300142]\n",
      " [-12.13797272]\n",
      " [-14.59026704]\n",
      " [  5.52935856]\n",
      " [  7.07617325]\n",
      " [  3.0811313 ]\n",
      " [ -0.33364714]\n",
      " [ -2.95226616]\n",
      " [-10.22719578]\n",
      " [ 12.35448784]\n",
      " [  7.02964876]\n",
      " [ 11.16245549]\n",
      " [ 11.79509975]\n",
      " [ -9.95496229]\n",
      " [-14.74160134]\n",
      " [ -4.640274  ]\n",
      " [-11.7901454 ]\n",
      " [  9.12229168]\n",
      " [ 11.65398413]\n",
      " [ -6.28974559]\n",
      " [ -9.64427544]\n",
      " [ -5.82735822]\n",
      " [ -5.12840427]\n",
      " [  2.04072105]\n",
      " [ -2.5637118 ]\n",
      " [  4.56437505]\n",
      " [ 12.32703192]\n",
      " [ -1.42511578]\n",
      " [ 13.4078979 ]\n",
      " [-11.09980366]]\n"
     ]
    }
   ],
   "source": [
    "ran_x = numpy.random.uniform(low=MIN_X, high=MAX_X, size=(NUM_INPUTS, 1))\n",
    "print(ran_x)"
   ]
  },
  {
   "cell_type": "code",
   "execution_count": 8,
   "metadata": {},
   "outputs": [
    {
     "data": {
      "text/html": [
       "<div>\n",
       "<style scoped>\n",
       "    .dataframe tbody tr th:only-of-type {\n",
       "        vertical-align: middle;\n",
       "    }\n",
       "\n",
       "    .dataframe tbody tr th {\n",
       "        vertical-align: top;\n",
       "    }\n",
       "\n",
       "    .dataframe thead th {\n",
       "        text-align: right;\n",
       "    }\n",
       "</style>\n",
       "<table border=\"1\" class=\"dataframe\">\n",
       "  <thead>\n",
       "    <tr style=\"text-align: right;\">\n",
       "      <th></th>\n",
       "      <th>x</th>\n",
       "    </tr>\n",
       "  </thead>\n",
       "  <tbody>\n",
       "    <tr>\n",
       "      <th>0</th>\n",
       "      <td>13.853789</td>\n",
       "    </tr>\n",
       "    <tr>\n",
       "      <th>1</th>\n",
       "      <td>10.360478</td>\n",
       "    </tr>\n",
       "    <tr>\n",
       "      <th>2</th>\n",
       "      <td>-0.048837</td>\n",
       "    </tr>\n",
       "    <tr>\n",
       "      <th>3</th>\n",
       "      <td>12.194146</td>\n",
       "    </tr>\n",
       "    <tr>\n",
       "      <th>4</th>\n",
       "      <td>1.137368</td>\n",
       "    </tr>\n",
       "  </tbody>\n",
       "</table>\n",
       "</div>"
      ],
      "text/plain": [
       "           x\n",
       "0  13.853789\n",
       "1  10.360478\n",
       "2  -0.048837\n",
       "3  12.194146\n",
       "4   1.137368"
      ]
     },
     "execution_count": 8,
     "metadata": {},
     "output_type": "execute_result"
    }
   ],
   "source": [
    "data_ran_x = pd.DataFrame(data=ran_x, columns=['x'])\n",
    "data_ran_x.head()"
   ]
  },
  {
   "cell_type": "code",
   "execution_count": 9,
   "metadata": {},
   "outputs": [
    {
     "data": {
      "text/plain": [
       "<matplotlib.axes._subplots.AxesSubplot at 0x12777e400>"
      ]
     },
     "execution_count": 9,
     "metadata": {},
     "output_type": "execute_result"
    },
    {
     "data": {
      "image/png": "[encoded data removed]",
      "text/plain": [
       "<Figure size 432x288 with 1 Axes>"
      ]
     },
     "metadata": {
      "needs_background": "light"
     },
     "output_type": "display_data"
    }
   ],
   "source": [
    "data_ran_x['y'] = 0.3*data_ran_x['x']+1\n",
    "data_ran_x.plot.scatter(x='x', y='y')"
   ]
  },
  {
   "cell_type": "code",
   "execution_count": 10,
   "metadata": {},
   "outputs": [],
   "source": [
    "noise_y = numpy.random.normal(size=NUM_INPUTS)\n",
    "data_ran_x['y'] = data_ran_x['y']+noise_y"
   ]
  },
  {
   "cell_type": "code",
   "execution_count": 11,
   "metadata": {},
   "outputs": [
    {
     "data": {
      "text/plain": [
       "<matplotlib.axes._subplots.AxesSubplot at 0x127ad0470>"
      ]
     },
     "execution_count": 11,
     "metadata": {},
     "output_type": "execute_result"
    },
    {
     "data": {
      "image/png": "[encoded data removed]",
      "text/plain": [
       "<Figure size 432x288 with 1 Axes>"
      ]
     },
     "metadata": {
      "needs_background": "light"
     },
     "output_type": "display_data"
    }
   ],
   "source": [
    "data_ran_x.plot.scatter(x='x', y='y')"
   ]
  },
  {
   "cell_type": "code",
   "execution_count": 12,
   "metadata": {},
   "outputs": [],
   "source": [
    "model_one = linear_model.LinearRegression()"
   ]
  },
  {
   "cell_type": "code",
   "execution_count": 16,
   "metadata": {},
   "outputs": [],
   "source": [
    "reshaped_x = data_ran_x['x'].values.reshape(-1, 1)\n",
    "reshaped_y = data_ran_x['y'].values.reshape(-1, 1)"
   ]
  },
  {
   "cell_type": "code",
   "execution_count": 14,
   "metadata": {},
   "outputs": [
    {
     "name": "stdout",
     "output_type": "stream",
     "text": [
      "[[ 13.85378861]\n",
      " [ 10.36047802]\n",
      " [ -0.04883714]\n",
      " [ 12.19414608]\n",
      " [  1.13736772]\n",
      " [  9.77989267]\n",
      " [-14.18148517]\n",
      " [ -2.94351213]\n",
      " [ -6.96950221]\n",
      " [  5.19661686]\n",
      " [-14.81353521]\n",
      " [  0.96241498]\n",
      " [-10.04675443]\n",
      " [ -3.27861642]\n",
      " [ -9.41526852]\n",
      " [-13.97658228]\n",
      " [ -9.00972718]\n",
      " [ -4.27213725]\n",
      " [ 13.58325711]\n",
      " [-11.72871967]\n",
      " [ -0.95477397]\n",
      " [  7.35467261]\n",
      " [ -8.88522194]\n",
      " [ 12.22563311]\n",
      " [  3.1936587 ]\n",
      " [ -7.85455514]\n",
      " [  0.82541688]\n",
      " [  9.27193064]\n",
      " [  9.8849652 ]\n",
      " [ -1.57001153]\n",
      " [ -8.47643782]\n",
      " [ -8.03651448]\n",
      " [ -3.27803315]\n",
      " [  7.02311707]\n",
      " [  0.99519389]\n",
      " [-10.62506315]\n",
      " [-10.7349402 ]\n",
      " [-10.63344799]\n",
      " [ 12.62527554]\n",
      " [ 11.36015286]\n",
      " [  7.18865129]\n",
      " [  6.63014761]\n",
      " [  5.39776146]\n",
      " [ -0.53000757]\n",
      " [ -2.78260204]\n",
      " [-10.68071038]\n",
      " [  2.10826482]\n",
      " [  8.71629892]\n",
      " [ -8.01730085]\n",
      " [  5.29409778]\n",
      " [ -9.22962185]\n",
      " [-10.26120737]\n",
      " [-13.933002  ]\n",
      " [ 12.74141818]\n",
      " [ -4.28537374]\n",
      " [ -2.60462048]\n",
      " [ -1.75216219]\n",
      " [-12.14375845]\n",
      " [-10.14574738]\n",
      " [-14.15919285]\n",
      " [-10.30453692]\n",
      " [ 14.14423924]\n",
      " [-14.13208664]\n",
      " [ -7.9678275 ]\n",
      " [  6.9147157 ]\n",
      " [ -2.20864053]\n",
      " [  2.5531987 ]\n",
      " [ -3.71596264]\n",
      " [  8.75123331]\n",
      " [ 10.84583988]\n",
      " [  1.45300142]\n",
      " [-12.13797272]\n",
      " [-14.59026704]\n",
      " [  5.52935856]\n",
      " [  7.07617325]\n",
      " [  3.0811313 ]\n",
      " [ -0.33364714]\n",
      " [ -2.95226616]\n",
      " [-10.22719578]\n",
      " [ 12.35448784]\n",
      " [  7.02964876]\n",
      " [ 11.16245549]\n",
      " [ 11.79509975]\n",
      " [ -9.95496229]\n",
      " [-14.74160134]\n",
      " [ -4.640274  ]\n",
      " [-11.7901454 ]\n",
      " [  9.12229168]\n",
      " [ 11.65398413]\n",
      " [ -6.28974559]\n",
      " [ -9.64427544]\n",
      " [ -5.82735822]\n",
      " [ -5.12840427]\n",
      " [  2.04072105]\n",
      " [ -2.5637118 ]\n",
      " [  4.56437505]\n",
      " [ 12.32703192]\n",
      " [ -1.42511578]\n",
      " [ 13.4078979 ]\n",
      " [-11.09980366]]\n",
      "[[ 4.74936667e+00]\n",
      " [ 5.34349641e+00]\n",
      " [ 7.95476931e-01]\n",
      " [ 4.96587064e+00]\n",
      " [ 3.80490431e+00]\n",
      " [ 4.16430740e+00]\n",
      " [-3.47618695e+00]\n",
      " [ 1.53829428e+00]\n",
      " [-1.41713036e+00]\n",
      " [ 3.70034233e+00]\n",
      " [-3.24207104e+00]\n",
      " [ 1.03709087e+00]\n",
      " [-6.45046963e-01]\n",
      " [ 1.15565222e+00]\n",
      " [-4.42822817e+00]\n",
      " [-2.29992379e+00]\n",
      " [-9.34216538e-01]\n",
      " [-3.76548121e-01]\n",
      " [ 3.56733129e+00]\n",
      " [-3.64897980e+00]\n",
      " [ 1.06166971e+00]\n",
      " [ 3.22789834e+00]\n",
      " [-1.53096300e+00]\n",
      " [ 3.80197137e+00]\n",
      " [ 3.58445108e+00]\n",
      " [-3.93217579e-01]\n",
      " [ 6.22876303e-01]\n",
      " [ 4.06505279e+00]\n",
      " [ 3.08406061e+00]\n",
      " [ 4.79846335e-01]\n",
      " [-1.61767287e+00]\n",
      " [-1.13186100e+00]\n",
      " [-5.96502951e-01]\n",
      " [ 9.69534930e-01]\n",
      " [ 6.34483360e-02]\n",
      " [ 4.67698444e-01]\n",
      " [-1.44228932e+00]\n",
      " [-2.96278661e+00]\n",
      " [ 4.09524229e+00]\n",
      " [ 2.16342478e+00]\n",
      " [ 4.37836587e+00]\n",
      " [ 3.81626997e+00]\n",
      " [ 4.38059535e+00]\n",
      " [ 8.79567311e-01]\n",
      " [ 1.54748834e+00]\n",
      " [-1.86723519e+00]\n",
      " [ 7.75668351e-03]\n",
      " [ 2.98305246e+00]\n",
      " [-3.82943222e+00]\n",
      " [ 2.57583422e+00]\n",
      " [-1.25278241e+00]\n",
      " [-2.66067671e+00]\n",
      " [-2.06320563e+00]\n",
      " [ 4.88053835e+00]\n",
      " [-2.14718548e+00]\n",
      " [ 5.13002813e-02]\n",
      " [ 3.19495372e-01]\n",
      " [-2.79923168e+00]\n",
      " [-1.30515036e+00]\n",
      " [-3.10743413e+00]\n",
      " [-2.88600489e+00]\n",
      " [ 5.05206173e+00]\n",
      " [-4.76392558e+00]\n",
      " [ 1.35856044e-01]\n",
      " [ 4.29198313e+00]\n",
      " [ 6.76314172e-01]\n",
      " [-7.44008801e-01]\n",
      " [-1.26651603e+00]\n",
      " [ 3.34416396e+00]\n",
      " [ 4.76117581e+00]\n",
      " [ 2.53972777e+00]\n",
      " [-1.56696366e+00]\n",
      " [-4.72812583e+00]\n",
      " [ 1.96089880e+00]\n",
      " [ 1.34728437e+00]\n",
      " [ 1.62205432e+00]\n",
      " [ 4.22691741e-01]\n",
      " [-1.02364125e+00]\n",
      " [-1.25276163e+00]\n",
      " [ 5.16837960e+00]\n",
      " [ 3.06284811e+00]\n",
      " [ 3.43999852e+00]\n",
      " [ 4.17858547e+00]\n",
      " [-1.32389077e+00]\n",
      " [-4.02467748e+00]\n",
      " [-1.68354336e-03]\n",
      " [-1.99919526e+00]\n",
      " [ 2.34125757e+00]\n",
      " [ 5.35812737e+00]\n",
      " [-1.38171625e+00]\n",
      " [-1.09269074e+00]\n",
      " [-1.66233659e+00]\n",
      " [-2.22907310e-01]\n",
      " [-2.47988942e-01]\n",
      " [ 8.88177293e-01]\n",
      " [ 2.10870235e+00]\n",
      " [ 4.23890459e+00]\n",
      " [ 1.09857378e+00]\n",
      " [ 4.68818511e+00]\n",
      " [-1.25839403e+00]]\n"
     ]
    }
   ],
   "source": [
    "print(reshaped_x)\n",
    "print(reshaped_y)"
   ]
  },
  {
   "cell_type": "code",
   "execution_count": 14,
   "metadata": {},
   "outputs": [
    {
     "data": {
      "text/plain": [
       "LinearRegression(copy_X=True, fit_intercept=True, n_jobs=None, normalize=False)"
      ]
     },
     "execution_count": 14,
     "metadata": {},
     "output_type": "execute_result"
    }
   ],
   "source": [
    "model_one.fit(X=reshaped_x, y=reshaped_y)"
   ]
  },
  {
   "cell_type": "code",
   "execution_count": 15,
   "metadata": {},
   "outputs": [],
   "source": [
    "def print_model_fit(model):\n",
    "    print('Intercept: {i} Coefficients: {c}'.format(i=model.intercept_, c=model.coef_))"
   ]
  },
  {
   "cell_type": "code",
   "execution_count": 16,
   "metadata": {},
   "outputs": [
    {
     "name": "stdout",
     "output_type": "stream",
     "text": [
      "Intercept: [0.97677604] Coefficients: [[0.30749329]]\n"
     ]
    }
   ],
   "source": [
    "print_model_fit(model_one)"
   ]
  },
  {
   "cell_type": "code",
   "execution_count": 18,
   "metadata": {},
   "outputs": [
    {
     "name": "stdout",
     "output_type": "stream",
     "text": [
      "[[0.59855929]\n",
      " [1.17972161]\n",
      " [1.58561275]]\n"
     ]
    }
   ],
   "source": [
    "new_x_values = [[-1.23], [0.66], [1.98]]\n",
    "predictions = model_one.predict(new_x_values)\n",
    "print(predictions)"
   ]
  },
  {
   "cell_type": "code",
   "execution_count": 20,
   "metadata": {},
   "outputs": [
    {
     "name": "stdout",
     "output_type": "stream",
     "text": [
      "Model prediction for -1.23: 0.5985592940210078\n",
      "Model prediction for 0.66: 1.1797216071376606\n",
      "Model prediction for 1.98: 1.5856127464572276\n"
     ]
    }
   ],
   "source": [
    "for datapoint, prediction in zip(new_x_values, predictions):\n",
    "    print('Model prediction for {}: {}'.format(datapoint[0], prediction[0]))\n"
   ]
  },
  {
   "cell_type": "code",
   "execution_count": 21,
   "metadata": {},
   "outputs": [],
   "source": [
    "def linear_regression_against_data(model, data_x, data_y):\n",
    "        fig = matplotlib.pyplot.figure(1)\n",
    "        fig.suptitle('Data vs Regression')\n",
    "        matplotlib.pyplot.xlabel('x values')\n",
    "        matplotlib.pyplot.ylabel('y values')\n",
    "        \n",
    "        matplotlib.pyplot.scatter(data_x, data_y)\n",
    "        \n",
    "        all_X = numpy.linspace(MIN_X, MAX_X)\n",
    "        all_Y = model.predict(list(zip(all_X)))\n",
    "        matplotlib.pyplot.plot(all_X, all_Y)"
   ]
  },
  {
   "cell_type": "code",
   "execution_count": 22,
   "metadata": {},
   "outputs": [
    {
     "data": {
      "image/png": "[encoded data removed]",
      "text/plain": [
       "<Figure size 432x288 with 1 Axes>"
      ]
     },
     "metadata": {
      "needs_background": "light"
     },
     "output_type": "display_data"
    }
   ],
   "source": [
    "linear_regression_against_data(model_one, reshaped_x, reshaped_y)"
   ]
  },
  {
   "cell_type": "markdown",
   "metadata": {},
   "source": [
    "Standard Exercise:\n",
    "1. Expected intercept: 1, expected coefficient: 0.3\n",
    "2. The expected numbers the model should have outputted when given the new numbers would just be the num*.3 + 1 \n",
    "3. If the regression code was perfectly working, it would be the same line as the line y=.3x+1"
   ]
  },
  {
   "cell_type": "code",
   "execution_count": 27,
   "metadata": {},
   "outputs": [
    {
     "data": {
      "image/png": "[encoded data removed]",
      "text/plain": [
       "<Figure size 432x288 with 1 Axes>"
      ]
     },
     "metadata": {
      "needs_background": "light"
     },
     "output_type": "display_data"
    }
   ],
   "source": [
    "model_two = linear_model.LinearRegression()\n",
    "model_two.fit(X=reshaped_y, y=reshaped_x)\n",
    "linear_regression_against_data(model_two, reshaped_y, reshaped_x)"
   ]
  },
  {
   "cell_type": "code",
   "execution_count": 26,
   "metadata": {},
   "outputs": [
    {
     "data": {
      "image/png": "[encoded data removed]",
      "text/plain": [
       "<Figure size 432x288 with 1 Axes>"
      ]
     },
     "metadata": {
      "needs_background": "light"
     },
     "output_type": "display_data"
    }
   ],
   "source": [
    "model_three = linear_model.LinearRegression()\n",
    "model_three.fit(X=reshaped_x, y=reshaped_x)\n",
    "linear_regression_against_data(model_three, reshaped_x, reshaped_x)"
   ]
  },
  {
   "cell_type": "code",
   "execution_count": 28,
   "metadata": {},
   "outputs": [],
   "source": [
    "noise_3d = numpy.random.normal(size=NUM_INPUTS)\n",
    "\n",
    "x_3d = numpy.random.uniform(low=MIN_X, high=MAX_X, size=NUM_INPUTS)\n",
    "y_3d = numpy.random.uniform(low=MIN_X, high=MAX_X, size=NUM_INPUTS)\n",
    "\n",
    "z_3d = 0.5*x_3d - 2.7*y_3d - 2 + noise_3d"
   ]
  },
  {
   "cell_type": "code",
   "execution_count": 30,
   "metadata": {},
   "outputs": [
    {
     "data": {
      "text/html": [
       "<div>\n",
       "<style scoped>\n",
       "    .dataframe tbody tr th:only-of-type {\n",
       "        vertical-align: middle;\n",
       "    }\n",
       "\n",
       "    .dataframe tbody tr th {\n",
       "        vertical-align: top;\n",
       "    }\n",
       "\n",
       "    .dataframe thead th {\n",
       "        text-align: right;\n",
       "    }\n",
       "</style>\n",
       "<table border=\"1\" class=\"dataframe\">\n",
       "  <thead>\n",
       "    <tr style=\"text-align: right;\">\n",
       "      <th></th>\n",
       "      <th>x</th>\n",
       "      <th>y</th>\n",
       "      <th>z</th>\n",
       "    </tr>\n",
       "  </thead>\n",
       "  <tbody>\n",
       "    <tr>\n",
       "      <th>0</th>\n",
       "      <td>7.213926</td>\n",
       "      <td>5.961606</td>\n",
       "      <td>-14.174295</td>\n",
       "    </tr>\n",
       "    <tr>\n",
       "      <th>1</th>\n",
       "      <td>-2.993892</td>\n",
       "      <td>-10.422907</td>\n",
       "      <td>23.601349</td>\n",
       "    </tr>\n",
       "    <tr>\n",
       "      <th>2</th>\n",
       "      <td>-12.655916</td>\n",
       "      <td>-12.145955</td>\n",
       "      <td>25.133241</td>\n",
       "    </tr>\n",
       "    <tr>\n",
       "      <th>3</th>\n",
       "      <td>14.739754</td>\n",
       "      <td>-1.693939</td>\n",
       "      <td>9.799872</td>\n",
       "    </tr>\n",
       "    <tr>\n",
       "      <th>4</th>\n",
       "      <td>0.786327</td>\n",
       "      <td>-0.677652</td>\n",
       "      <td>-0.272974</td>\n",
       "    </tr>\n",
       "  </tbody>\n",
       "</table>\n",
       "</div>"
      ],
      "text/plain": [
       "           x          y          z\n",
       "0   7.213926   5.961606 -14.174295\n",
       "1  -2.993892 -10.422907  23.601349\n",
       "2 -12.655916 -12.145955  25.133241\n",
       "3  14.739754  -1.693939   9.799872\n",
       "4   0.786327  -0.677652  -0.272974"
      ]
     },
     "execution_count": 30,
     "metadata": {},
     "output_type": "execute_result"
    }
   ],
   "source": [
    "data_3d = pd.DataFrame(data=x_3d, columns=['x'])\n",
    "data_3d['y'] = y_3d\n",
    "data_3d['z'] = z_3d\n",
    "\n",
    "data_3d.head()"
   ]
  },
  {
   "cell_type": "code",
   "execution_count": 31,
   "metadata": {},
   "outputs": [
    {
     "name": "stdout",
     "output_type": "stream",
     "text": [
      "Intercept: -2.057056267537125 Coefficients: [ 0.50246753 -2.69182564]\n"
     ]
    }
   ],
   "source": [
    "model_3d = linear_model.LinearRegression()\n",
    "model_3d.fit(data_3d[['x', 'y']], data_3d['z'])\n",
    "\n",
    "print_model_fit(model_3d)"
   ]
  },
  {
   "cell_type": "code",
   "execution_count": 35,
   "metadata": {},
   "outputs": [],
   "source": [
    "def plot_3d(model, x, y, z):\n",
    "    fig = matplotlib.pyplot.figure(1)\n",
    "    fig.suptitle('3D Data vs Linear Plane')\n",
    "    \n",
    "    axes = fig.gca(projection='3d')\n",
    "    axes.set_xlabel('x')\n",
    "    axes.set_ylabel('y')\n",
    "    axes.set_zlabel('z')\n",
    "    \n",
    "    axes.scatter(x, y, z)\n",
    "    \n",
    "    X = Y = numpy.arange(MIN_X, MAX_X, 0.05)\n",
    "    X, Y = numpy.meshgrid(X, Y)\n",
    "    Z = numpy.array(model.predict(list(zip(X.flatten(), Y.flatten())))).reshape(X.shape)\n",
    "    \n",
    "    axes.plot_surface(X, Y, Z, alpha=0.1)\n",
    "    matplotlib.pyplot.show()"
   ]
  },
  {
   "cell_type": "code",
   "execution_count": 36,
   "metadata": {},
   "outputs": [
    {
     "data": {
      "image/png": "[encoded data removed]",
      "text/plain": [
       "<Figure size 432x288 with 1 Axes>"
      ]
     },
     "metadata": {
      "needs_background": "light"
     },
     "output_type": "display_data"
    }
   ],
   "source": [
    "plot_3d(model_3d, x_3d, y_3d, z_3d)"
   ]
  },
  {
   "cell_type": "code",
   "execution_count": null,
   "metadata": {},
   "outputs": [],
   "source": []
  }
 ],
 "metadata": {
  "kernelspec": {
   "display_name": "Python 3",
   "language": "python",
   "name": "python3"
  },
  "language_info": {
   "codemirror_mode": {
    "name": "ipython",
    "version": 3
   },
   "file_extension": ".py",
   "mimetype": "text/x-python",
   "name": "python",
   "nbconvert_exporter": "python",
   "pygments_lexer": "ipython3",
   "version": "3.8.5"
  }
 },
 "nbformat": 4,
 "nbformat_minor": 2
}
