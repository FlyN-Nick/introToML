{
 "cells": [
  {
   "cell_type": "code",
   "execution_count": 1,
   "metadata": {},
   "outputs": [],
   "source": [
    "%matplotlib inline"
   ]
  },
  {
   "cell_type": "code",
   "execution_count": 2,
   "metadata": {},
   "outputs": [],
   "source": [
    "import numpy.random # generate noisy/random data\n",
    "from sklearn import linear_model # training linear model\n",
    "\n",
    "import matplotlib.pyplot # general plotting\n",
    "from mpl_toolkits.mplot3d import Axes3D # 3d plotting\n",
    "\n",
    "import pandas as pd\n",
    "import numpy as np \n",
    "import operator # used for sorting array of tuples "
   ]
  },
  {
   "cell_type": "code",
   "execution_count": 3,
   "metadata": {},
   "outputs": [],
   "source": [
    "MIN_X = -15\n",
    "MAX_X = 15\n",
    "NUM_INPUTS = 100"
   ]
  },
  {
   "cell_type": "code",
   "execution_count": 4,
   "metadata": {},
   "outputs": [
    {
     "data": {
      "text/html": [
       "<div>\n",
       "<style scoped>\n",
       "    .dataframe tbody tr th:only-of-type {\n",
       "        vertical-align: middle;\n",
       "    }\n",
       "\n",
       "    .dataframe tbody tr th {\n",
       "        vertical-align: top;\n",
       "    }\n",
       "\n",
       "    .dataframe thead th {\n",
       "        text-align: right;\n",
       "    }\n",
       "</style>\n",
       "<table border=\"1\" class=\"dataframe\">\n",
       "  <thead>\n",
       "    <tr style=\"text-align: right;\">\n",
       "      <th></th>\n",
       "      <th>x</th>\n",
       "    </tr>\n",
       "  </thead>\n",
       "  <tbody>\n",
       "    <tr>\n",
       "      <th>0</th>\n",
       "      <td>3.832007</td>\n",
       "    </tr>\n",
       "    <tr>\n",
       "      <th>1</th>\n",
       "      <td>-7.190355</td>\n",
       "    </tr>\n",
       "    <tr>\n",
       "      <th>2</th>\n",
       "      <td>-3.582737</td>\n",
       "    </tr>\n",
       "    <tr>\n",
       "      <th>3</th>\n",
       "      <td>10.538828</td>\n",
       "    </tr>\n",
       "    <tr>\n",
       "      <th>4</th>\n",
       "      <td>0.042205</td>\n",
       "    </tr>\n",
       "  </tbody>\n",
       "</table>\n",
       "</div>"
      ],
      "text/plain": [
       "           x\n",
       "0   3.832007\n",
       "1  -7.190355\n",
       "2  -3.582737\n",
       "3  10.538828\n",
       "4   0.042205"
      ]
     },
     "execution_count": 4,
     "metadata": {},
     "output_type": "execute_result"
    }
   ],
   "source": [
    "ran_x = numpy.random.uniform(low=MIN_X, high=MAX_X, size=(NUM_INPUTS, 1)) # type: [[float]]\n",
    "\n",
    "dataset = pd.DataFrame(data=ran_x, columns=['x'])\n",
    "dataset.head()"
   ]
  },
  {
   "cell_type": "code",
   "execution_count": 5,
   "metadata": {},
   "outputs": [
    {
     "data": {
      "text/plain": [
       "<AxesSubplot:xlabel='x', ylabel='y'>"
      ]
     },
     "execution_count": 5,
     "metadata": {},
     "output_type": "execute_result"
    },
    {
     "data": {
      "image/png": "[encoded data removed]",
      "text/plain": [
       "<Figure size 432x288 with 1 Axes>"
      ]
     },
     "metadata": {
      "needs_background": "light"
     },
     "output_type": "display_data"
    }
   ],
   "source": [
    "dataset['y'] = 0.3*dataset['x']+1 # line is y = 0.3x + 1, no noise yet\n",
    "dataset.plot.scatter(x='x', y='y')"
   ]
  },
  {
   "cell_type": "code",
   "execution_count": 6,
   "metadata": {},
   "outputs": [],
   "source": [
    "noise_y = numpy.random.normal(size=NUM_INPUTS) # generate noise using normal distribution  \n",
    "dataset['y'] = dataset['y']+noise_y # add noise to dataset "
   ]
  },
  {
   "cell_type": "code",
   "execution_count": 7,
   "metadata": {},
   "outputs": [
    {
     "data": {
      "text/plain": [
       "<AxesSubplot:xlabel='x', ylabel='y'>"
      ]
     },
     "execution_count": 7,
     "metadata": {},
     "output_type": "execute_result"
    },
    {
     "data": {
      "image/png": "[encoded data removed]",
      "text/plain": [
       "<Figure size 432x288 with 1 Axes>"
      ]
     },
     "metadata": {
      "needs_background": "light"
     },
     "output_type": "display_data"
    }
   ],
   "source": [
    "dataset.plot.scatter(x='x', y='y')"
   ]
  },
  {
   "cell_type": "code",
   "execution_count": 8,
   "metadata": {},
   "outputs": [],
   "source": [
    "model_one = linear_model.LinearRegression() # unfitted model"
   ]
  },
  {
   "cell_type": "code",
   "execution_count": 9,
   "metadata": {},
   "outputs": [
    {
     "name": "stdout",
     "output_type": "stream",
     "text": [
      "0      3.832007\n",
      "1     -7.190355\n",
      "2     -3.582737\n",
      "3     10.538828\n",
      "4      0.042205\n",
      "        ...    \n",
      "95    -4.205836\n",
      "96    -2.607521\n",
      "97    12.502021\n",
      "98   -12.405296\n",
      "99    -3.097122\n",
      "Name: x, Length: 100, dtype: float64\n",
      "0     1.866688\n",
      "1    -0.819929\n",
      "2    -0.457346\n",
      "3     4.150994\n",
      "4     0.644285\n",
      "        ...   \n",
      "95   -0.974563\n",
      "96    0.317024\n",
      "97    4.464490\n",
      "98   -3.776828\n",
      "99    0.773750\n",
      "Name: y, Length: 100, dtype: float64\n",
      "[[  3.83200746]\n",
      " [ -7.19035542]\n",
      " [ -3.58273661]\n",
      " [ 10.53882769]\n",
      " [  0.04220469]\n",
      " [-12.10879071]\n",
      " [  8.84758926]\n",
      " [ -1.20185948]\n",
      " [-11.52521834]\n",
      " [  3.11590343]\n",
      " [ 10.09097217]\n",
      " [-12.67302716]\n",
      " [  1.55415946]\n",
      " [ -9.40715884]\n",
      " [ -2.21532239]\n",
      " [ 11.58085713]\n",
      " [ -1.20196855]\n",
      " [-14.95317303]\n",
      " [  5.53109143]\n",
      " [ -4.54515264]\n",
      " [ -4.71238916]\n",
      " [  4.52903751]\n",
      " [ -8.66562499]\n",
      " [  8.71431519]\n",
      " [-14.70232499]\n",
      " [ -7.64705788]\n",
      " [-14.57690668]\n",
      " [  4.96563199]\n",
      " [-14.89443273]\n",
      " [  0.81392437]\n",
      " [ 11.63345039]\n",
      " [ -9.53448699]\n",
      " [  6.83865815]\n",
      " [ -1.76120795]\n",
      " [  4.58934562]\n",
      " [-14.9302467 ]\n",
      " [  0.26538207]\n",
      " [  4.66450759]\n",
      " [ -9.8953428 ]\n",
      " [-14.02466287]\n",
      " [ -0.2609407 ]\n",
      " [  3.4874811 ]\n",
      " [ -3.24280988]\n",
      " [ 11.40118308]\n",
      " [ -4.68833555]\n",
      " [ 14.50064142]\n",
      " [-10.13755014]\n",
      " [  4.4988524 ]\n",
      " [ -7.08870814]\n",
      " [-11.79297459]\n",
      " [-14.60943798]\n",
      " [ -4.78720881]\n",
      " [ -5.79630513]\n",
      " [ 10.35189397]\n",
      " [  8.64305029]\n",
      " [ 10.84548718]\n",
      " [ 14.96805066]\n",
      " [ -1.03887223]\n",
      " [ -6.26502935]\n",
      " [ -1.16048357]\n",
      " [-11.72298766]\n",
      " [ -2.3689222 ]\n",
      " [  8.61661009]\n",
      " [  1.77349496]\n",
      " [-14.55400559]\n",
      " [ -7.1749039 ]\n",
      " [  6.51969319]\n",
      " [-10.82857302]\n",
      " [  4.24816572]\n",
      " [ -9.12940096]\n",
      " [ 12.20052862]\n",
      " [ -8.23195856]\n",
      " [ -4.72286945]\n",
      " [ -6.88069369]\n",
      " [  5.95587855]\n",
      " [-10.45543694]\n",
      " [ 14.98385386]\n",
      " [  4.01675269]\n",
      " [ 12.45360446]\n",
      " [-14.22814464]\n",
      " [ 11.4393414 ]\n",
      " [  2.38047722]\n",
      " [ -7.64186078]\n",
      " [ -9.18973135]\n",
      " [ 14.18957705]\n",
      " [ -7.38596431]\n",
      " [ -7.06801635]\n",
      " [-11.0420707 ]\n",
      " [-13.32789865]\n",
      " [ -1.11005745]\n",
      " [-14.9105156 ]\n",
      " [  7.06512805]\n",
      " [  4.03879501]\n",
      " [  3.09489397]\n",
      " [ 12.94873407]\n",
      " [ -4.20583644]\n",
      " [ -2.60752073]\n",
      " [ 12.50202092]\n",
      " [-12.40529608]\n",
      " [ -3.09712175]]\n",
      "[[ 1.86668838]\n",
      " [-0.81992867]\n",
      " [-0.45734609]\n",
      " [ 4.15099369]\n",
      " [ 0.6442848 ]\n",
      " [-2.77312632]\n",
      " [ 4.35918328]\n",
      " [ 0.57609531]\n",
      " [-2.09340493]\n",
      " [ 4.24182908]\n",
      " [ 3.97024268]\n",
      " [-2.11157089]\n",
      " [ 1.79566516]\n",
      " [-1.78645871]\n",
      " [ 0.13130686]\n",
      " [ 1.68911208]\n",
      " [ 2.02473028]\n",
      " [-2.10971527]\n",
      " [ 3.42793192]\n",
      " [-0.91234932]\n",
      " [ 0.35797783]\n",
      " [ 1.79732127]\n",
      " [-1.2375044 ]\n",
      " [ 5.35036631]\n",
      " [-4.81180262]\n",
      " [-2.37090705]\n",
      " [-1.68140445]\n",
      " [ 3.01663025]\n",
      " [-3.54573858]\n",
      " [ 1.56662061]\n",
      " [ 5.77152066]\n",
      " [-2.34354634]\n",
      " [ 2.56390739]\n",
      " [-0.31752625]\n",
      " [ 2.21287036]\n",
      " [-5.1895174 ]\n",
      " [-0.08438684]\n",
      " [ 2.48503579]\n",
      " [-1.81020179]\n",
      " [-3.40512248]\n",
      " [ 0.44665064]\n",
      " [ 2.54693974]\n",
      " [-0.76454732]\n",
      " [ 3.08529039]\n",
      " [-0.98944906]\n",
      " [ 4.95143402]\n",
      " [-1.28889094]\n",
      " [ 2.76195777]\n",
      " [-1.41601372]\n",
      " [-1.36858386]\n",
      " [-4.20857529]\n",
      " [ 0.25215814]\n",
      " [-0.93370012]\n",
      " [ 3.3702673 ]\n",
      " [ 5.04541465]\n",
      " [ 6.37262678]\n",
      " [ 6.18618856]\n",
      " [ 2.23515603]\n",
      " [-1.18926007]\n",
      " [ 0.40799802]\n",
      " [-2.1200755 ]\n",
      " [ 0.39382568]\n",
      " [ 2.90271235]\n",
      " [ 1.46769326]\n",
      " [-3.21562371]\n",
      " [-1.54467912]\n",
      " [ 1.5964404 ]\n",
      " [-2.38345932]\n",
      " [ 2.96965776]\n",
      " [-1.34274175]\n",
      " [ 6.43074716]\n",
      " [-2.16949653]\n",
      " [-2.43388717]\n",
      " [-1.39031491]\n",
      " [ 1.66519381]\n",
      " [-0.14744808]\n",
      " [ 4.85542354]\n",
      " [ 3.86177939]\n",
      " [ 5.02011825]\n",
      " [-2.63293733]\n",
      " [ 3.3944459 ]\n",
      " [ 2.27564813]\n",
      " [-0.32628364]\n",
      " [-0.95878701]\n",
      " [ 5.71800523]\n",
      " [-0.37442693]\n",
      " [-1.06232337]\n",
      " [-1.99266896]\n",
      " [-2.82417784]\n",
      " [ 0.5486763 ]\n",
      " [-4.90114195]\n",
      " [ 5.23966695]\n",
      " [ 1.67641056]\n",
      " [ 2.59538921]\n",
      " [ 5.47476869]\n",
      " [-0.97456343]\n",
      " [ 0.31702404]\n",
      " [ 4.46449023]\n",
      " [-3.77682762]\n",
      " [ 0.77375047]]\n"
     ]
    }
   ],
   "source": [
    "print(dataset['x']) # see current shape of data \n",
    "print(dataset['y']) # see current shape of data \n",
    "reshaped_x = dataset['x'].values.reshape(-1, 1)\n",
    "reshaped_y = dataset['y'].values.reshape(-1, 1)\n",
    "print(reshaped_x) # see new shape \n",
    "print(reshaped_y) # see new shape"
   ]
  },
  {
   "cell_type": "code",
   "execution_count": 10,
   "metadata": {},
   "outputs": [
    {
     "data": {
      "text/plain": [
       "LinearRegression()"
      ]
     },
     "execution_count": 10,
     "metadata": {},
     "output_type": "execute_result"
    }
   ],
   "source": [
    "model_one.fit(X=reshaped_x, y=reshaped_y) # fit model to data "
   ]
  },
  {
   "cell_type": "code",
   "execution_count": 11,
   "metadata": {},
   "outputs": [],
   "source": [
    "# function to print weights of model \n",
    "def print_model_fit(model):\n",
    "    print('Intercept: {i} Coefficients: {c}'.format(i=model.intercept_, c=model.coef_))"
   ]
  },
  {
   "cell_type": "code",
   "execution_count": 12,
   "metadata": {},
   "outputs": [
    {
     "name": "stdout",
     "output_type": "stream",
     "text": [
      "Intercept: [1.10130921] Coefficients: [[0.30612222]]\n"
     ]
    }
   ],
   "source": [
    "print_model_fit(model_one) "
   ]
  },
  {
   "cell_type": "code",
   "execution_count": 13,
   "metadata": {},
   "outputs": [
    {
     "name": "stdout",
     "output_type": "stream",
     "text": [
      "Model prediction for -1.23: 0.7247788783217968\n",
      "Model prediction for 0.66: 1.3033498807481547\n",
      "Model prediction for 1.98: 1.707431215776087\n"
     ]
    }
   ],
   "source": [
    "new_x_values = [[-1.23], [0.66], [1.98]] # some random values to predict \n",
    "predictions = model_one.predict(new_x_values) \n",
    "for datapoint, prediction in zip(new_x_values, predictions):\n",
    "    print('Model prediction for {}: {}'.format(datapoint[0], prediction[0]))"
   ]
  },
  {
   "cell_type": "code",
   "execution_count": 14,
   "metadata": {},
   "outputs": [],
   "source": [
    "# scatter data and draw line on the same graph \n",
    "def linear_regression_against_data(model, data_x, data_y, MIN_X, MAX_X):\n",
    "        fig = matplotlib.pyplot.figure(1)\n",
    "        fig.suptitle('Data vs Regression')\n",
    "        matplotlib.pyplot.xlabel('x-axis')\n",
    "        matplotlib.pyplot.ylabel('y-axis')\n",
    "        \n",
    "        matplotlib.pyplot.scatter(data_x, data_y)\n",
    "        \n",
    "        all_X = numpy.linspace(MIN_X, MAX_X)\n",
    "        all_Y = model.predict(list(zip(all_X)))\n",
    "        matplotlib.pyplot.plot(all_X, all_Y)"
   ]
  },
  {
   "cell_type": "code",
   "execution_count": 15,
   "metadata": {},
   "outputs": [
    {
     "data": {
      "image/png": "[encoded data removed]",
      "text/plain": [
       "<Figure size 432x288 with 1 Axes>"
      ]
     },
     "metadata": {
      "needs_background": "light"
     },
     "output_type": "display_data"
    }
   ],
   "source": [
    "linear_regression_against_data(model_one, reshaped_x, reshaped_y, MIN_X, MAX_X)"
   ]
  },
  {
   "cell_type": "markdown",
   "metadata": {},
   "source": [
    "# Exercise Option #1 - Standard Exercise:\n",
    "Answers to questions about dataset 1. \n",
    "1. I expected `print_model_fit()` to print numbers similar to: `Intercept: [1] Coefficients: [[0.3]]` because the line used to make the data was y = 0.3x + 1. \n",
    "2. The expected numbers the model should have outputted when given the new numbers would be the num*.3 + 1 (if the model was perfect). So given the x-values -1.23, 0.66, and 1.98, I expected the model to predict the y-values 0.631, 1.198, and 1.594.\n",
    "3. I expected the line to generally follow the trend of all the points. \n",
    "4. The line of code I would change would be `dataset['y'] = 0.3*dataset['x']+1`. I would first change 0.3 to an arbitrary number, say 5.5, and would then run all the code after that. I would make sure that the output of `print_model_fit(model_one)` reported a new coefficent, one close to the new arbitrary number. This would make sure that the model didn't just happen to work with only m=0.3. A similar approach would be taken for the y-intercept. Doing both of these would ensure that the model was working properly. "
   ]
  },
  {
   "cell_type": "code",
   "execution_count": 16,
   "metadata": {},
   "outputs": [
    {
     "data": {
      "image/png": "[encoded data removed]",
      "text/plain": [
       "<Figure size 432x288 with 1 Axes>"
      ]
     },
     "metadata": {
      "needs_background": "light"
     },
     "output_type": "display_data"
    }
   ],
   "source": [
    "model_two = linear_model.LinearRegression()\n",
    "model_two.fit(X=reshaped_y, y=reshaped_x) # swapping x and y\n",
    "# since x and y have been swapped, we have to use the min and max y-values \n",
    "MIN_Y = 0.3*MIN_X+1\n",
    "MAX_Y = 0.3*MAX_X+1\n",
    "linear_regression_against_data(model_two, reshaped_y, reshaped_x, MIN_Y, MAX_Y)"
   ]
  },
  {
   "cell_type": "code",
   "execution_count": 17,
   "metadata": {},
   "outputs": [
    {
     "data": {
      "image/png": "[encoded data removed]",
      "text/plain": [
       "<Figure size 432x288 with 1 Axes>"
      ]
     },
     "metadata": {
      "needs_background": "light"
     },
     "output_type": "display_data"
    }
   ],
   "source": [
    "model_three = linear_model.LinearRegression()\n",
    "model_three.fit(X=reshaped_x, y=reshaped_x) # y = x\n",
    "linear_regression_against_data(model_three, reshaped_x, reshaped_x, MIN_X, MAX_X)"
   ]
  },
  {
   "cell_type": "code",
   "execution_count": 18,
   "metadata": {},
   "outputs": [],
   "source": [
    "MIN_X_3D = -10\n",
    "MAX_X_3D = 10\n",
    "NUM_INPUTS_3D = 50\n",
    "\n",
    "noise_3d = numpy.random.normal(size=NUM_INPUTS_3D)\n",
    "x_3d = numpy.random.uniform(low=MIN_X_3D, high=MAX_X_3D, size=NUM_INPUTS_3D)\n",
    "y_3d = numpy.random.uniform(low=MIN_X_3D, high=MAX_X_3D, size=NUM_INPUTS_3D)\n",
    "\n",
    "z_3d = 0.5*x_3d - 2.7*y_3d - 2 + noise_3d"
   ]
  },
  {
   "cell_type": "code",
   "execution_count": 19,
   "metadata": {},
   "outputs": [
    {
     "data": {
      "text/html": [
       "<div>\n",
       "<style scoped>\n",
       "    .dataframe tbody tr th:only-of-type {\n",
       "        vertical-align: middle;\n",
       "    }\n",
       "\n",
       "    .dataframe tbody tr th {\n",
       "        vertical-align: top;\n",
       "    }\n",
       "\n",
       "    .dataframe thead th {\n",
       "        text-align: right;\n",
       "    }\n",
       "</style>\n",
       "<table border=\"1\" class=\"dataframe\">\n",
       "  <thead>\n",
       "    <tr style=\"text-align: right;\">\n",
       "      <th></th>\n",
       "      <th>x</th>\n",
       "      <th>y</th>\n",
       "      <th>z</th>\n",
       "    </tr>\n",
       "  </thead>\n",
       "  <tbody>\n",
       "    <tr>\n",
       "      <th>0</th>\n",
       "      <td>8.346470</td>\n",
       "      <td>-6.144342</td>\n",
       "      <td>18.956447</td>\n",
       "    </tr>\n",
       "    <tr>\n",
       "      <th>1</th>\n",
       "      <td>9.698939</td>\n",
       "      <td>-2.646676</td>\n",
       "      <td>9.037385</td>\n",
       "    </tr>\n",
       "    <tr>\n",
       "      <th>2</th>\n",
       "      <td>5.283762</td>\n",
       "      <td>-7.107606</td>\n",
       "      <td>20.529969</td>\n",
       "    </tr>\n",
       "    <tr>\n",
       "      <th>3</th>\n",
       "      <td>5.145088</td>\n",
       "      <td>8.750689</td>\n",
       "      <td>-24.182003</td>\n",
       "    </tr>\n",
       "    <tr>\n",
       "      <th>4</th>\n",
       "      <td>9.872975</td>\n",
       "      <td>-4.346186</td>\n",
       "      <td>15.728013</td>\n",
       "    </tr>\n",
       "  </tbody>\n",
       "</table>\n",
       "</div>"
      ],
      "text/plain": [
       "          x         y          z\n",
       "0  8.346470 -6.144342  18.956447\n",
       "1  9.698939 -2.646676   9.037385\n",
       "2  5.283762 -7.107606  20.529969\n",
       "3  5.145088  8.750689 -24.182003\n",
       "4  9.872975 -4.346186  15.728013"
      ]
     },
     "execution_count": 19,
     "metadata": {},
     "output_type": "execute_result"
    }
   ],
   "source": [
    "data_3d = pd.DataFrame(data=x_3d, columns=['x'])\n",
    "data_3d['y'] = y_3d\n",
    "data_3d['z'] = z_3d\n",
    "\n",
    "data_3d.head()"
   ]
  },
  {
   "cell_type": "code",
   "execution_count": 20,
   "metadata": {},
   "outputs": [
    {
     "name": "stdout",
     "output_type": "stream",
     "text": [
      "Intercept: -1.9993766874119197 Coefficients: [ 0.48906332 -2.72184603]\n"
     ]
    }
   ],
   "source": [
    "model_3d = linear_model.LinearRegression()\n",
    "model_3d.fit(data_3d[['x', 'y']], data_3d['z']) # why don't we have to reshape data in this example?\n",
    "\n",
    "print_model_fit(model_3d)"
   ]
  },
  {
   "cell_type": "code",
   "execution_count": 21,
   "metadata": {},
   "outputs": [],
   "source": [
    "def plot_3d(model, x, y, z, min, max):\n",
    "    fig = matplotlib.pyplot.figure(1)\n",
    "    fig.suptitle('3D Data vs Linear Plane')\n",
    "\n",
    "    axes = fig.gca(projection='3d') \n",
    "    axes.set_xlabel('x')\n",
    "    axes.set_ylabel('y')\n",
    "    axes.set_zlabel('z')\n",
    "    \n",
    "    axes.scatter(x, y, z)\n",
    "    \n",
    "    X = Y = numpy.arange(min, max, 0.05)\n",
    "    X, Y = numpy.meshgrid(X, Y)\n",
    "    Z = numpy.array(model.predict(list(zip(X.flatten(), Y.flatten())))).reshape(X.shape)\n",
    "    \n",
    "    axes.plot_surface(X, Y, Z, alpha=0.1)\n",
    "    matplotlib.pyplot.show()"
   ]
  },
  {
   "cell_type": "code",
   "execution_count": 22,
   "metadata": {},
   "outputs": [
    {
     "data": {
      "image/png": "[encoded data removed]",
      "text/plain": [
       "<Figure size 432x288 with 1 Axes>"
      ]
     },
     "metadata": {
      "needs_background": "light"
     },
     "output_type": "display_data"
    }
   ],
   "source": [
    "plot_3d(model_3d, x_3d, y_3d, z_3d, MIN_X_3D, MAX_X_3D)"
   ]
  },
  {
   "cell_type": "markdown",
   "metadata": {},
   "source": [
    "# Exercise Option #2 - Standard Difficulty\n",
    "\n",
    "1. I expected `print_model_fit()` to print: `Intercept: [-2] Coefficients: [0.5 -2.7]` because the line used to make the data was z = 0.5x - 2.7y - 2. \n",
    "2. I expected all the data to generally lie on the plane, because the plane is supposed to fit the general trend of the data. \n",
    "3. I would take the same approach to the 2D dataset to check if the linear regression code was working properly I would change the line `z_3d = 0.5*x_3d - 2.7*y_3d - 2 + noise_3d` by changing the coefficients. Then, I would check if `print_model_fit()` changed to reflect the new values.  \n",
    "4. There were a few minor differences between working with this and the 2D dataset. One was that the data did not have to be reshaped (not sure why), as well as some more code had to be written to graph the 3D data and mesh."
   ]
  },
  {
   "cell_type": "markdown",
   "metadata": {},
   "source": [
    "# Exercise Option #3 - Advanced Difficulty\n",
    "Write some code that will better fit quadratic data. "
   ]
  },
  {
   "cell_type": "code",
   "execution_count": 23,
   "metadata": {},
   "outputs": [],
   "source": [
    "MIN_X_QUAD = 0\n",
    "MAX_X_QUAD = 20\n",
    "NUM_INPUTS_QUAD = 50\n",
    "x_quadratic = numpy.random.uniform(low=MIN_X_QUAD, high=MAX_X_QUAD, size=(NUM_INPUTS_QUAD, 1))\n",
    "data_quadratic = pd.DataFrame(data=x_quadratic, columns=['x'])"
   ]
  },
  {
   "cell_type": "code",
   "execution_count": 24,
   "metadata": {},
   "outputs": [],
   "source": [
    "noise_quadratic = numpy.random.normal(size=NUM_INPUTS_QUAD)"
   ]
  },
  {
   "cell_type": "code",
   "execution_count": 25,
   "metadata": {},
   "outputs": [],
   "source": [
    "# y = x^2 - 20x + 1.5\n",
    "# vertex: -b/2a = 10 \n",
    "data_quadratic['y'] = data_quadratic['x']*data_quadratic['x']-20*data_quadratic['x']+1.5+noise_quadratic"
   ]
  },
  {
   "cell_type": "code",
   "execution_count": 26,
   "metadata": {},
   "outputs": [
    {
     "name": "stdout",
     "output_type": "stream",
     "text": [
      "Intercept: [-77.48959767] Coefficients: [[1.06100747]]\n"
     ]
    },
    {
     "data": {
      "image/png": "[encoded data removed]",
      "text/plain": [
       "<Figure size 432x288 with 1 Axes>"
      ]
     },
     "metadata": {
      "needs_background": "light"
     },
     "output_type": "display_data"
    }
   ],
   "source": [
    "x_quadratic = data_quadratic['x'].values.reshape(-1, 1)\n",
    "y_quadratic = data_quadratic['y'].values.reshape(-1, 1)\n",
    "model_quadratic = linear_model.LinearRegression() # generate model\n",
    "model_quadratic.fit(x_quadratic, y_quadratic) # fit model\n",
    "# show results\n",
    "print_model_fit(model_quadratic)\n",
    "linear_regression_against_data(model_quadratic, x_quadratic, y_quadratic, MIN_X_QUAD, MAX_X_QUAD)"
   ]
  },
  {
   "cell_type": "code",
   "execution_count": 27,
   "metadata": {},
   "outputs": [],
   "source": [
    "half = int(NUM_INPUTS_QUAD/2)\n",
    "# learned how reshape() works from https://stackoverflow.com/questions/18691084/what-does-1-mean-in-numpy-reshape\n",
    "# reshape x and y data to 1D arrays \n",
    "x_quadratic = x_quadratic.reshape(1, -1)[0]\n",
    "y_quadratic = y_quadratic.reshape(1, -1)[0]\n",
    "# combine x and y data into array of tuples where in each tuple, first element is x and second is y \n",
    "x_y_combined = []\n",
    "for i in range(0, NUM_INPUTS_QUAD):\n",
    "    x_y_combined.append((x_quadratic[i], y_quadratic[i]))\n",
    "# learned how to sort from https://algocoding.wordpress.com/2015/04/14/how-to-sort-a-list-of-tuples-in-python-3-4/#:~:text=Note%3A%20As%20usual%20in%20programming,itemgetter(1)%20.&text=If%20we%20want%20to%20sort,we%20simply%20set%20reverse%20%3D%20True%20.\n",
    "# sort x and y data by x values, ascending\n",
    "x_y_combined.sort(key = operator.itemgetter(0))\n",
    "\n",
    "x_quadratic = []\n",
    "y_quadratic = []\n",
    "for tuple in x_y_combined:\n",
    "    x_quadratic.append([tuple[0]])\n",
    "    y_quadratic.append([tuple[1]])\n",
    "# split sorted dataset into two halves\n",
    "x_quadratic_left = x_quadratic[0:half]\n",
    "y_quadratic_left = y_quadratic[0:half]\n",
    "x_quadratic_right = x_quadratic[half:(NUM_INPUTS_QUAD-1)]\n",
    "y_quadratic_right = y_quadratic[half:(NUM_INPUTS_QUAD-1)]"
   ]
  },
  {
   "cell_type": "code",
   "execution_count": 28,
   "metadata": {},
   "outputs": [
    {
     "data": {
      "text/plain": [
       "LinearRegression()"
      ]
     },
     "execution_count": 28,
     "metadata": {},
     "output_type": "execute_result"
    }
   ],
   "source": [
    "model_quadratic_left = linear_model.LinearRegression() # generate left-half model\n",
    "model_quadratic_left.fit(x_quadratic_left, y_quadratic_left) # fit left-half model\n",
    "model_quadratic_right = linear_model.LinearRegression() # generate right-half model\n",
    "model_quadratic_right.fit(x_quadratic_right, y_quadratic_right) # fit right-half model"
   ]
  },
  {
   "cell_type": "code",
   "execution_count": 29,
   "metadata": {},
   "outputs": [
    {
     "data": {
      "image/png": "[encoded data removed]",
      "text/plain": [
       "<Figure size 432x288 with 1 Axes>"
      ]
     },
     "metadata": {
      "needs_background": "light"
     },
     "output_type": "display_data"
    }
   ],
   "source": [
    "linear_regression_against_data(model_quadratic_left, x_quadratic_left, y_quadratic_left, MIN_X_QUAD, MAX_X_QUAD)\n",
    "linear_regression_against_data(model_quadratic_right, x_quadratic_right, y_quadratic_right, MIN_X_QUAD, MAX_X_QUAD)"
   ]
  },
  {
   "cell_type": "markdown",
   "metadata": {},
   "source": [
    "# My Solution to Exercise #3\n",
    "As you can see in my code above, I first sorted the data by x-value, ascending. I then split the data into halves, with the first half being the left side of the parabola and the second half being the right side of the parabola. I then fit a model to each half.\n",
    "\n",
    "There is one problem with this approach: it assumes there is an equal amount of data of the left and right halves. When generating my data I kept this in mind to ensure that my approach would work.\n",
    "\n",
    "One potential method of getting around this issue is by determining the vertex of the parabola and then splitting the data accordingly. This in practice is quite difficult: you can't just pick the datapoint that has the smallest y-value, because that doesn't take in account that the parabola may open downwards. "
   ]
  },
  {
   "cell_type": "code",
   "execution_count": 30,
   "metadata": {},
   "outputs": [
    {
     "data": {
      "image/png": "[encoded data removed]",
      "text/plain": [
       "<Figure size 432x288 with 1 Axes>"
      ]
     },
     "metadata": {
      "needs_background": "light"
     },
     "output_type": "display_data"
    }
   ],
   "source": [
    "# https://scikit-learn.org/stable/auto_examples/linear_model/plot_polynomial_interpolation.html\n",
    "# https://scikit-learn.org/stable/modules/generated/sklearn.preprocessing.PolynomialFeatures.html#sklearn.preprocessing.PolynomialFeatures\n",
    "from sklearn.preprocessing import PolynomialFeatures\n",
    "from sklearn.pipeline import make_pipeline\n",
    "degree = 2 # quadratic \n",
    "model_polynomial=make_pipeline(PolynomialFeatures(degree), linear_model.LinearRegression()) # make model\n",
    "# from my understanding, what the above code does is replace the matrix used for the regression with a polynomial version of it\n",
    "model_polynomial.fit(x_quadratic, y_quadratic) # fit model\n",
    "linear_regression_against_data(model_polynomial, x_quadratic, y_quadratic, MIN_X_QUAD, MAX_X_QUAD)"
   ]
  },
  {
   "cell_type": "markdown",
   "metadata": {},
   "source": [
    "# My Second Solution to Exercise #4\n",
    "I just looked into the sklearn documentation on how to properly do polynomial regression. "
   ]
  },
  {
   "cell_type": "markdown",
   "metadata": {},
   "source": [
    "# Exercise Option #4 - Advanced Difficulty\n",
    "\n",
    "Add some [regularization](https://jennselby.github.io/MachineLearningCourseNotes/#regularization-ridge-lasso-and-elastic-net) to your linear regression model. "
   ]
  },
  {
   "cell_type": "code",
   "execution_count": 31,
   "metadata": {},
   "outputs": [
    {
     "name": "stdout",
     "output_type": "stream",
     "text": [
      "Intercept: [1.10070674] Coefficients: [[0.30569746]]\n",
      "Intercept: [1.10130921] Coefficients: [[0.30612222]]\n",
      "Training data. With regularization: 0.8950914835070242. Without regularization: 0.8950932068689114. Diff: -1.7233618871959067e-06\n",
      "Test data. With regularization: 0.7427773518534679. Without regularization: 0.742662660708968. Diff: 0.00011469114449991213\n"
     ]
    },
    {
     "data": {
      "image/png": "[encoded data removed]",
      "text/plain": [
       "<Figure size 432x288 with 1 Axes>"
      ]
     },
     "metadata": {
      "needs_background": "light"
     },
     "output_type": "display_data"
    }
   ],
   "source": [
    "# https://scikit-learn.org/stable/modules/linear_model.html#ridge-regression-and-classification\n",
    "#model_with_regularization = linear_model.Ridge(alpha=.5) # make model with Ridge regularization \n",
    "# https://numpy.org/doc/stable/reference/generated/numpy.logspace.html\n",
    "# https://scikit-learn.org/stable/modules/generated/sklearn.linear_model.RidgeCV.html#sklearn.linear_model.RidgeCV\n",
    "model_with_regularization = linear_model.RidgeCV(alphas=np.logspace(-5, 5, 15), normalize=True) # make model with Ridge regularization w/ built in cross validation\n",
    "\n",
    "model_with_regularization.fit(X=reshaped_x, y=reshaped_y) # fit model to data \n",
    "model_without_regularization = model_one # model without regularization, already fitted \n",
    "# print coeficcients of two models for comparison \n",
    "print_model_fit(model_with_regularization) \n",
    "print_model_fit(model_without_regularization) \n",
    "# graph the two lines against the data \n",
    "linear_regression_against_data(model_with_regularization, reshaped_x, reshaped_y, MIN_X, MAX_X) \n",
    "linear_regression_against_data(model_without_regularization, reshaped_x, reshaped_y, MIN_X, MAX_X) \n",
    "# compare the two models\n",
    "# compare r-values for training data (the model with regularization should have a lower r-value)\n",
    "# https://scikit-learn.org/stable/modules/generated/sklearn.linear_model.LinearRegression.html\n",
    "r_regularization_training = model_with_regularization.score(reshaped_x, reshaped_y)\n",
    "r_standard_training = model_without_regularization.score(reshaped_x, reshaped_y)\n",
    "r_diff_training = r_regularization_training-r_standard_training # this should be negative, because the model without regularization should perform better on the training data\n",
    "print(\"Training data. With regularization: {}. Without regularization: {}. Diff: {}\".format(r_regularization_training, r_standard_training, r_diff_training))\n",
    "# compare r-values for test data\n",
    "# generate test data \n",
    "ran_test_x = numpy.random.uniform(low=MIN_X, high=MAX_X, size=(NUM_INPUTS, 1)) \n",
    "test_dataset = pd.DataFrame(data=ran_test_x, columns=['x'])\n",
    "test_dataset['y'] = 0.3*test_dataset['x']+1 # line is y = 0.3x + 1\n",
    "# noise is added because the model without regularization should be overfitting to the specific noise of the training data\n",
    "# https://numpy.org/doc/stable/reference/random/generated/numpy.random.normal.html?highlight=numpy%20random%20normal#numpy.random.normal\n",
    "noise_test_y = numpy.random.normal(scale=1.5, size=NUM_INPUTS) \n",
    "test_dataset['y'] = test_dataset['y']+noise_test_y  \n",
    "test_reshaped_x = test_dataset['x'].values.reshape(-1, 1)\n",
    "test_reshaped_y = test_dataset['y'].values.reshape(-1, 1)\n",
    "# calculate r-values and print\n",
    "r_regularization_testing = model_with_regularization.score(test_reshaped_x, test_reshaped_y)\n",
    "r_standard_testing = model_without_regularization.score(test_reshaped_x, test_reshaped_y)\n",
    "r_diff_testing = r_regularization_testing-r_standard_testing # this should be positive, because the model without regularization should be slightly overfitted\n",
    "print(\"Test data. With regularization: {}. Without regularization: {}. Diff: {}\".format(r_regularization_testing, r_standard_testing, r_diff_testing))\n"
   ]
  },
  {
   "cell_type": "code",
   "execution_count": 32,
   "metadata": {},
   "outputs": [
    {
     "data": {
      "image/png": "[encoded data removed]",
      "text/plain": [
       "<Figure size 432x288 with 1 Axes>"
      ]
     },
     "metadata": {
      "needs_background": "light"
     },
     "output_type": "display_data"
    }
   ],
   "source": [
    "degree = 2 # quadratic \n",
    "model_polynomial=make_pipeline(PolynomialFeatures(degree), linear_model.RidgeCV(alphas=np.logspace(-5, 5, 15), normalize=True)) # make polynomial model with Ridge regularization w/ built in cross validation\n",
    "# from my understanding, what the above code does is replace the matrix used for the regression with a polynomial version of it\n",
    "model_polynomial.fit(x_quadratic, y_quadratic) # fit model\n",
    "linear_regression_against_data(model_polynomial, x_quadratic, y_quadratic, MIN_X_QUAD, MAX_X_QUAD)"
   ]
  },
  {
   "cell_type": "markdown",
   "metadata": {},
   "source": [
    "# Solutions for #3 & #4 Combined\n",
    "I just used the same code as my second solution for #3, but instead of a regular linear model I used one with ridge regularization. "
   ]
  },
  {
   "cell_type": "code",
   "execution_count": null,
   "metadata": {},
   "outputs": [],
   "source": []
  }
 ],
 "metadata": {
  "kernelspec": {
   "display_name": "Python 3",
   "language": "python",
   "name": "python3"
  },
  "language_info": {
   "codemirror_mode": {
    "name": "ipython",
    "version": 3
   },
   "file_extension": ".py",
   "mimetype": "text/x-python",
   "name": "python",
   "nbconvert_exporter": "python",
   "pygments_lexer": "ipython3",
   "version": "3.8.5"
  }
 },
 "nbformat": 4,
 "nbformat_minor": 2
}
