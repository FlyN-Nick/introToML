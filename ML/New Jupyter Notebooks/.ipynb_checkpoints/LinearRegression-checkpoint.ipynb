{
 "cells": [
  {
   "cell_type": "code",
   "execution_count": 1,
   "metadata": {},
   "outputs": [],
   "source": [
    "%matplotlib inline"
   ]
  },
  {
   "cell_type": "code",
   "execution_count": 2,
   "metadata": {},
   "outputs": [],
   "source": [
    "import numpy.random # generate noisy/random data\n",
    "from sklearn import linear_model # training linear model\n",
    "\n",
    "import matplotlib.pyplot # general plotting\n",
    "from mpl_toolkits.mplot3d import Axes3D # 3d plotting\n",
    "\n",
    "import pandas as pd\n",
    "import numpy as np \n",
    "import operator # used for sorting array of tuples "
   ]
  },
  {
   "cell_type": "code",
   "execution_count": 3,
   "metadata": {},
   "outputs": [],
   "source": [
    "MIN_X = -15\n",
    "MAX_X = 15\n",
    "NUM_INPUTS = 100"
   ]
  },
  {
   "cell_type": "code",
   "execution_count": 4,
   "metadata": {},
   "outputs": [
    {
     "data": {
      "text/html": [
       "<div>\n",
       "<style scoped>\n",
       "    .dataframe tbody tr th:only-of-type {\n",
       "        vertical-align: middle;\n",
       "    }\n",
       "\n",
       "    .dataframe tbody tr th {\n",
       "        vertical-align: top;\n",
       "    }\n",
       "\n",
       "    .dataframe thead th {\n",
       "        text-align: right;\n",
       "    }\n",
       "</style>\n",
       "<table border=\"1\" class=\"dataframe\">\n",
       "  <thead>\n",
       "    <tr style=\"text-align: right;\">\n",
       "      <th></th>\n",
       "      <th>x</th>\n",
       "    </tr>\n",
       "  </thead>\n",
       "  <tbody>\n",
       "    <tr>\n",
       "      <th>0</th>\n",
       "      <td>-6.182248</td>\n",
       "    </tr>\n",
       "    <tr>\n",
       "      <th>1</th>\n",
       "      <td>7.608295</td>\n",
       "    </tr>\n",
       "    <tr>\n",
       "      <th>2</th>\n",
       "      <td>10.534768</td>\n",
       "    </tr>\n",
       "    <tr>\n",
       "      <th>3</th>\n",
       "      <td>6.392514</td>\n",
       "    </tr>\n",
       "    <tr>\n",
       "      <th>4</th>\n",
       "      <td>10.871743</td>\n",
       "    </tr>\n",
       "  </tbody>\n",
       "</table>\n",
       "</div>"
      ],
      "text/plain": [
       "           x\n",
       "0  -6.182248\n",
       "1   7.608295\n",
       "2  10.534768\n",
       "3   6.392514\n",
       "4  10.871743"
      ]
     },
     "execution_count": 4,
     "metadata": {},
     "output_type": "execute_result"
    }
   ],
   "source": [
    "ran_x = numpy.random.uniform(low=MIN_X, high=MAX_X, size=(NUM_INPUTS, 1)) # type: [[float]]\n",
    "\n",
    "dataset = pd.DataFrame(data=ran_x, columns=['x'])\n",
    "dataset.head()"
   ]
  },
  {
   "cell_type": "code",
   "execution_count": 5,
   "metadata": {},
   "outputs": [
    {
     "data": {
      "text/plain": [
       "<AxesSubplot:xlabel='x', ylabel='y'>"
      ]
     },
     "execution_count": 5,
     "metadata": {},
     "output_type": "execute_result"
    },
    {
     "data": {
      "image/png": "[encoded data removed]",
      "text/plain": [
       "<Figure size 432x288 with 1 Axes>"
      ]
     },
     "metadata": {
      "needs_background": "light"
     },
     "output_type": "display_data"
    }
   ],
   "source": [
    "dataset['y'] = 0.3*dataset['x']+1 # line is y = 0.3x + 1, no noise yet\n",
    "dataset.plot.scatter(x='x', y='y')"
   ]
  },
  {
   "cell_type": "code",
   "execution_count": 6,
   "metadata": {},
   "outputs": [],
   "source": [
    "noise_y = numpy.random.normal(size=NUM_INPUTS) # generate noise using normal distribution  \n",
    "dataset['y'] = dataset['y']+noise_y # add noise to dataset "
   ]
  },
  {
   "cell_type": "code",
   "execution_count": 7,
   "metadata": {},
   "outputs": [
    {
     "data": {
      "text/plain": [
       "<AxesSubplot:xlabel='x', ylabel='y'>"
      ]
     },
     "execution_count": 7,
     "metadata": {},
     "output_type": "execute_result"
    },
    {
     "data": {
      "image/png": "[encoded data removed]",
      "text/plain": [
       "<Figure size 432x288 with 1 Axes>"
      ]
     },
     "metadata": {
      "needs_background": "light"
     },
     "output_type": "display_data"
    }
   ],
   "source": [
    "dataset.plot.scatter(x='x', y='y')"
   ]
  },
  {
   "cell_type": "code",
   "execution_count": 8,
   "metadata": {},
   "outputs": [],
   "source": [
    "model_one = linear_model.LinearRegression() # unfitted model"
   ]
  },
  {
   "cell_type": "code",
   "execution_count": 9,
   "metadata": {},
   "outputs": [
    {
     "name": "stdout",
     "output_type": "stream",
     "text": [
      "0     -6.182248\n",
      "1      7.608295\n",
      "2     10.534768\n",
      "3      6.392514\n",
      "4     10.871743\n",
      "        ...    \n",
      "95    -6.616917\n",
      "96    -8.624802\n",
      "97    -8.374244\n",
      "98    -8.201323\n",
      "99     3.389399\n",
      "Name: x, Length: 100, dtype: float64\n",
      "0    -0.726476\n",
      "1     3.829369\n",
      "2     3.680607\n",
      "3     4.806963\n",
      "4     4.233655\n",
      "        ...   \n",
      "95   -1.120118\n",
      "96   -0.864369\n",
      "97   -0.210852\n",
      "98   -1.505489\n",
      "99    2.462369\n",
      "Name: y, Length: 100, dtype: float64\n",
      "[[ -6.18224774]\n",
      " [  7.60829505]\n",
      " [ 10.53476823]\n",
      " [  6.39251404]\n",
      " [ 10.87174324]\n",
      " [-12.8917966 ]\n",
      " [ -2.36835013]\n",
      " [  4.04783737]\n",
      " [ -0.6551194 ]\n",
      " [-11.9728246 ]\n",
      " [ 14.12038672]\n",
      " [ 10.53540835]\n",
      " [  6.71178639]\n",
      " [  8.27613815]\n",
      " [  0.88640716]\n",
      " [-12.30774852]\n",
      " [-12.52906229]\n",
      " [  7.08217364]\n",
      " [ -3.18415661]\n",
      " [  1.91923344]\n",
      " [-12.16188963]\n",
      " [ -2.50602326]\n",
      " [-11.9214803 ]\n",
      " [ 14.32539977]\n",
      " [-11.43132381]\n",
      " [  1.05057033]\n",
      " [ -6.63067196]\n",
      " [ -4.10409021]\n",
      " [ -8.41712795]\n",
      " [  1.18939389]\n",
      " [ 14.33773515]\n",
      " [ -8.52698572]\n",
      " [ -1.92100041]\n",
      " [  1.52583735]\n",
      " [  3.84744955]\n",
      " [ -8.33566993]\n",
      " [ 10.90607212]\n",
      " [  0.78312813]\n",
      " [ -5.74474865]\n",
      " [  9.37997602]\n",
      " [  7.47433584]\n",
      " [-11.41008739]\n",
      " [  9.69108925]\n",
      " [-12.67423441]\n",
      " [  8.62925677]\n",
      " [  6.7365974 ]\n",
      " [ -7.95009728]\n",
      " [  3.7090929 ]\n",
      " [-10.18922182]\n",
      " [  6.89408769]\n",
      " [  5.67016085]\n",
      " [ 12.63298469]\n",
      " [ -8.14486652]\n",
      " [ -9.7658677 ]\n",
      " [ -4.4911307 ]\n",
      " [  6.65247961]\n",
      " [ -6.91497591]\n",
      " [ 13.60388744]\n",
      " [  1.34900981]\n",
      " [ -9.32398915]\n",
      " [  5.37030096]\n",
      " [ -7.65374922]\n",
      " [-10.38747149]\n",
      " [  5.37270989]\n",
      " [ -1.2609327 ]\n",
      " [ -2.75951001]\n",
      " [ -7.90211601]\n",
      " [ -6.91026829]\n",
      " [ -4.03906982]\n",
      " [  6.74875764]\n",
      " [  1.41734371]\n",
      " [ 13.69980841]\n",
      " [-12.3824286 ]\n",
      " [  6.22962771]\n",
      " [ -5.1527905 ]\n",
      " [ -9.15198516]\n",
      " [-10.07972794]\n",
      " [ -6.28888672]\n",
      " [ -1.66350793]\n",
      " [-11.88317928]\n",
      " [ 14.55085219]\n",
      " [ -8.98608911]\n",
      " [  7.81744991]\n",
      " [ -9.61358011]\n",
      " [-13.11817362]\n",
      " [  4.32993485]\n",
      " [ -4.98114355]\n",
      " [ -5.76538044]\n",
      " [ -9.06440019]\n",
      " [ -8.06959803]\n",
      " [ -5.47767679]\n",
      " [ -6.2446592 ]\n",
      " [ -4.4550141 ]\n",
      " [-10.65005642]\n",
      " [-11.37508853]\n",
      " [ -6.61691705]\n",
      " [ -8.62480209]\n",
      " [ -8.37424422]\n",
      " [ -8.2013228 ]\n",
      " [  3.38939895]]\n",
      "[[-0.72647561]\n",
      " [ 3.82936939]\n",
      " [ 3.68060665]\n",
      " [ 4.80696289]\n",
      " [ 4.23365501]\n",
      " [-5.30097877]\n",
      " [ 0.74612732]\n",
      " [ 1.8366696 ]\n",
      " [ 1.95909542]\n",
      " [-0.88181615]\n",
      " [ 4.72927253]\n",
      " [ 3.54267953]\n",
      " [ 4.87239295]\n",
      " [ 3.54507627]\n",
      " [ 1.24139927]\n",
      " [-2.87359838]\n",
      " [-3.6499855 ]\n",
      " [ 3.78673803]\n",
      " [-1.05270818]\n",
      " [ 0.38857233]\n",
      " [-2.36198871]\n",
      " [-1.66725198]\n",
      " [-2.03930422]\n",
      " [ 6.63208116]\n",
      " [-1.30220832]\n",
      " [ 0.60225508]\n",
      " [-3.00438175]\n",
      " [-0.12756953]\n",
      " [-1.37292325]\n",
      " [ 0.96806281]\n",
      " [ 4.5469353 ]\n",
      " [-0.68646981]\n",
      " [-0.13429717]\n",
      " [ 1.72235316]\n",
      " [ 1.17338988]\n",
      " [-1.51228162]\n",
      " [ 5.30767566]\n",
      " [ 1.44914594]\n",
      " [ 0.21002871]\n",
      " [ 4.20659217]\n",
      " [ 2.62658083]\n",
      " [-3.75172946]\n",
      " [ 3.49085808]\n",
      " [-2.86998613]\n",
      " [ 2.96371914]\n",
      " [ 3.07231925]\n",
      " [-1.24467272]\n",
      " [ 2.17489667]\n",
      " [-1.95919258]\n",
      " [ 3.36721525]\n",
      " [ 2.31906606]\n",
      " [ 2.84096651]\n",
      " [-2.03404932]\n",
      " [-0.32851086]\n",
      " [ 0.92289023]\n",
      " [ 3.39134782]\n",
      " [-0.67803029]\n",
      " [ 4.527565  ]\n",
      " [ 1.57814842]\n",
      " [-2.20462365]\n",
      " [ 1.7815225 ]\n",
      " [ 0.90160313]\n",
      " [-2.44704867]\n",
      " [ 3.02709791]\n",
      " [ 0.16412925]\n",
      " [ 1.72957834]\n",
      " [-1.76006562]\n",
      " [-1.21823875]\n",
      " [ 0.25230636]\n",
      " [ 2.584694  ]\n",
      " [ 0.17596104]\n",
      " [ 4.81430793]\n",
      " [-3.9631298 ]\n",
      " [ 3.53499008]\n",
      " [-1.92517728]\n",
      " [ 0.00792017]\n",
      " [-3.33288724]\n",
      " [-1.34906385]\n",
      " [ 0.67061046]\n",
      " [-2.8153089 ]\n",
      " [ 6.03405414]\n",
      " [-1.16729528]\n",
      " [ 2.50283865]\n",
      " [-1.35630631]\n",
      " [-3.91456821]\n",
      " [ 1.09943773]\n",
      " [-0.42839018]\n",
      " [-1.15148944]\n",
      " [-0.51745318]\n",
      " [-2.98158234]\n",
      " [-0.75815164]\n",
      " [-2.23087788]\n",
      " [-0.82964719]\n",
      " [-1.24232048]\n",
      " [-2.79711969]\n",
      " [-1.12011797]\n",
      " [-0.86436927]\n",
      " [-0.2108522 ]\n",
      " [-1.50548897]\n",
      " [ 2.46236853]]\n"
     ]
    }
   ],
   "source": [
    "print(dataset['x']) # see current shape of data \n",
    "print(dataset['y']) # see current shape of data \n",
    "reshaped_x = dataset['x'].values.reshape(-1, 1)\n",
    "reshaped_y = dataset['y'].values.reshape(-1, 1)\n",
    "print(reshaped_x) # see new shape \n",
    "print(reshaped_y) # see new shape"
   ]
  },
  {
   "cell_type": "code",
   "execution_count": 10,
   "metadata": {},
   "outputs": [
    {
     "data": {
      "text/plain": [
       "LinearRegression()"
      ]
     },
     "execution_count": 10,
     "metadata": {},
     "output_type": "execute_result"
    }
   ],
   "source": [
    "model_one.fit(X=reshaped_x, y=reshaped_y) # fit model to data "
   ]
  },
  {
   "cell_type": "code",
   "execution_count": 11,
   "metadata": {},
   "outputs": [],
   "source": [
    "# function to print weights of model \n",
    "def print_model_fit(model):\n",
    "    print('Intercept: {i} Coefficients: {c}'.format(i=model.intercept_, c=model.coef_))"
   ]
  },
  {
   "cell_type": "code",
   "execution_count": 12,
   "metadata": {},
   "outputs": [
    {
     "name": "stdout",
     "output_type": "stream",
     "text": [
      "Intercept: [0.95096538] Coefficients: [[0.29782167]]\n"
     ]
    }
   ],
   "source": [
    "print_model_fit(model_one) "
   ]
  },
  {
   "cell_type": "code",
   "execution_count": 13,
   "metadata": {},
   "outputs": [
    {
     "name": "stdout",
     "output_type": "stream",
     "text": [
      "Model prediction for -1.23: 0.5846447238754208\n",
      "Model prediction for 0.66: 1.147527689526191\n",
      "Model prediction for 1.98: 1.5406523004568875\n"
     ]
    }
   ],
   "source": [
    "new_x_values = [[-1.23], [0.66], [1.98]] # some random values to predict \n",
    "predictions = model_one.predict(new_x_values) \n",
    "for datapoint, prediction in zip(new_x_values, predictions):\n",
    "    print('Model prediction for {}: {}'.format(datapoint[0], prediction[0]))"
   ]
  },
  {
   "cell_type": "code",
   "execution_count": 14,
   "metadata": {},
   "outputs": [],
   "source": [
    "# scatter data and draw line on the same graph \n",
    "def linear_regression_against_data(model, data_x, data_y, MIN_X, MAX_X):\n",
    "        fig = matplotlib.pyplot.figure(1)\n",
    "        fig.suptitle('Data vs Regression')\n",
    "        matplotlib.pyplot.xlabel('x-axis')\n",
    "        matplotlib.pyplot.ylabel('y-axis')\n",
    "        \n",
    "        matplotlib.pyplot.scatter(data_x, data_y)\n",
    "        \n",
    "        all_X = numpy.linspace(MIN_X, MAX_X)\n",
    "        all_Y = model.predict(list(zip(all_X)))\n",
    "        matplotlib.pyplot.plot(all_X, all_Y)"
   ]
  },
  {
   "cell_type": "code",
   "execution_count": 15,
   "metadata": {},
   "outputs": [
    {
     "data": {
      "image/png": "[encoded data removed]",
      "text/plain": [
       "<Figure size 432x288 with 1 Axes>"
      ]
     },
     "metadata": {
      "needs_background": "light"
     },
     "output_type": "display_data"
    }
   ],
   "source": [
    "linear_regression_against_data(model_one, reshaped_x, reshaped_y, MIN_X, MAX_X)"
   ]
  },
  {
   "cell_type": "markdown",
   "metadata": {},
   "source": [
    "# Exercise Option #1 - Standard Exercise:\n",
    "Answers to questions about dataset 1. \n",
    "1. I expected `print_model_fit()` to print numbers similar to: `Intercept: [1] Coefficients: [[0.3]]` because the line used to make the data was y = 0.3x + 1. \n",
    "2. The expected numbers the model should have outputted when given the new numbers would be the num*.3 + 1 (if the model was perfect). So given the x-values -1.23, 0.66, and 1.98, I expected the model to predict the y-values 0.631, 1.198, and 1.594.\n",
    "3. I expected the line to generally follow the trend of all the points. \n",
    "4. The line of code I would change would be `dataset['y'] = 0.3*dataset['x']+1`. I would first change 0.3 to an arbitrary number, say 5.5, and would then run all the code after that. I would make sure that the output of `print_model_fit(model_one)` reported a new coefficent, one close to the new arbitrary number. This would make sure that the model didn't just happen to work with only m=0.3. A similar approach would be taken for the y-intercept. Doing both of these would ensure that the model was working properly. "
   ]
  },
  {
   "cell_type": "code",
   "execution_count": 16,
   "metadata": {},
   "outputs": [
    {
     "data": {
      "image/png": "[encoded data removed]",
      "text/plain": [
       "<Figure size 432x288 with 1 Axes>"
      ]
     },
     "metadata": {
      "needs_background": "light"
     },
     "output_type": "display_data"
    }
   ],
   "source": [
    "model_two = linear_model.LinearRegression()\n",
    "model_two.fit(X=reshaped_y, y=reshaped_x) # swapping x and y\n",
    "# since x and y have been swapped, we have to use the min and max y-values \n",
    "MIN_Y = 0.3*MIN_X+1\n",
    "MAX_Y = 0.3*MAX_X+1\n",
    "linear_regression_against_data(model_two, reshaped_y, reshaped_x, MIN_Y, MAX_Y)"
   ]
  },
  {
   "cell_type": "code",
   "execution_count": 17,
   "metadata": {},
   "outputs": [
    {
     "data": {
      "image/png": "[encoded data removed]",
      "text/plain": [
       "<Figure size 432x288 with 1 Axes>"
      ]
     },
     "metadata": {
      "needs_background": "light"
     },
     "output_type": "display_data"
    }
   ],
   "source": [
    "model_three = linear_model.LinearRegression()\n",
    "model_three.fit(X=reshaped_x, y=reshaped_x) # y = x\n",
    "linear_regression_against_data(model_three, reshaped_x, reshaped_x, MIN_X, MAX_X)"
   ]
  },
  {
   "cell_type": "code",
   "execution_count": 18,
   "metadata": {},
   "outputs": [],
   "source": [
    "MIN_X_3D = -10\n",
    "MAX_X_3D = 10\n",
    "NUM_INPUTS_3D = 50\n",
    "\n",
    "noise_3d = numpy.random.normal(size=NUM_INPUTS_3D)\n",
    "x_3d = numpy.random.uniform(low=MIN_X_3D, high=MAX_X_3D, size=NUM_INPUTS_3D)\n",
    "y_3d = numpy.random.uniform(low=MIN_X_3D, high=MAX_X_3D, size=NUM_INPUTS_3D)\n",
    "\n",
    "z_3d = 0.5*x_3d - 2.7*y_3d - 2 + noise_3d"
   ]
  },
  {
   "cell_type": "code",
   "execution_count": 19,
   "metadata": {},
   "outputs": [
    {
     "data": {
      "text/html": [
       "<div>\n",
       "<style scoped>\n",
       "    .dataframe tbody tr th:only-of-type {\n",
       "        vertical-align: middle;\n",
       "    }\n",
       "\n",
       "    .dataframe tbody tr th {\n",
       "        vertical-align: top;\n",
       "    }\n",
       "\n",
       "    .dataframe thead th {\n",
       "        text-align: right;\n",
       "    }\n",
       "</style>\n",
       "<table border=\"1\" class=\"dataframe\">\n",
       "  <thead>\n",
       "    <tr style=\"text-align: right;\">\n",
       "      <th></th>\n",
       "      <th>x</th>\n",
       "      <th>y</th>\n",
       "      <th>z</th>\n",
       "    </tr>\n",
       "  </thead>\n",
       "  <tbody>\n",
       "    <tr>\n",
       "      <th>0</th>\n",
       "      <td>8.619824</td>\n",
       "      <td>1.898447</td>\n",
       "      <td>-1.730358</td>\n",
       "    </tr>\n",
       "    <tr>\n",
       "      <th>1</th>\n",
       "      <td>2.223581</td>\n",
       "      <td>6.403442</td>\n",
       "      <td>-17.927684</td>\n",
       "    </tr>\n",
       "    <tr>\n",
       "      <th>2</th>\n",
       "      <td>-5.003284</td>\n",
       "      <td>-7.595386</td>\n",
       "      <td>17.547275</td>\n",
       "    </tr>\n",
       "    <tr>\n",
       "      <th>3</th>\n",
       "      <td>7.263580</td>\n",
       "      <td>-3.265595</td>\n",
       "      <td>9.823465</td>\n",
       "    </tr>\n",
       "    <tr>\n",
       "      <th>4</th>\n",
       "      <td>-9.986216</td>\n",
       "      <td>-2.808644</td>\n",
       "      <td>2.349900</td>\n",
       "    </tr>\n",
       "  </tbody>\n",
       "</table>\n",
       "</div>"
      ],
      "text/plain": [
       "          x         y          z\n",
       "0  8.619824  1.898447  -1.730358\n",
       "1  2.223581  6.403442 -17.927684\n",
       "2 -5.003284 -7.595386  17.547275\n",
       "3  7.263580 -3.265595   9.823465\n",
       "4 -9.986216 -2.808644   2.349900"
      ]
     },
     "execution_count": 19,
     "metadata": {},
     "output_type": "execute_result"
    }
   ],
   "source": [
    "data_3d = pd.DataFrame(data=x_3d, columns=['x'])\n",
    "data_3d['y'] = y_3d\n",
    "data_3d['z'] = z_3d\n",
    "\n",
    "data_3d.head()"
   ]
  },
  {
   "cell_type": "code",
   "execution_count": 20,
   "metadata": {},
   "outputs": [
    {
     "name": "stdout",
     "output_type": "stream",
     "text": [
      "Intercept: -2.0567608551414893 Coefficients: [ 0.48609528 -2.69849282]\n"
     ]
    }
   ],
   "source": [
    "model_3d = linear_model.LinearRegression()\n",
    "model_3d.fit(data_3d[['x', 'y']], data_3d['z']) # why don't we have to reshape data in this example?\n",
    "\n",
    "print_model_fit(model_3d)"
   ]
  },
  {
   "cell_type": "code",
   "execution_count": 21,
   "metadata": {},
   "outputs": [],
   "source": [
    "def plot_3d(model, x, y, z, min, max):\n",
    "    fig = matplotlib.pyplot.figure(1)\n",
    "    fig.suptitle('3D Data vs Linear Plane')\n",
    "\n",
    "    axes = fig.gca(projection='3d') \n",
    "    axes.set_xlabel('x')\n",
    "    axes.set_ylabel('y')\n",
    "    axes.set_zlabel('z')\n",
    "    \n",
    "    axes.scatter(x, y, z)\n",
    "    \n",
    "    X = Y = numpy.arange(min, max, 0.05)\n",
    "    X, Y = numpy.meshgrid(X, Y)\n",
    "    Z = numpy.array(model.predict(list(zip(X.flatten(), Y.flatten())))).reshape(X.shape)\n",
    "    \n",
    "    axes.plot_surface(X, Y, Z, alpha=0.1)\n",
    "    matplotlib.pyplot.show()"
   ]
  },
  {
   "cell_type": "code",
   "execution_count": 22,
   "metadata": {},
   "outputs": [
    {
     "data": {
      "image/png": "[encoded data removed]",
      "text/plain": [
       "<Figure size 432x288 with 1 Axes>"
      ]
     },
     "metadata": {
      "needs_background": "light"
     },
     "output_type": "display_data"
    }
   ],
   "source": [
    "plot_3d(model_3d, x_3d, y_3d, z_3d, MIN_X_3D, MAX_X_3D)"
   ]
  },
  {
   "cell_type": "markdown",
   "metadata": {},
   "source": [
    "# Exercise Option #2 - Standard Difficulty\n",
    "\n",
    "1. I expected `print_model_fit()` to print: `Intercept: [-2] Coefficients: [0.5 -2.7]` because the line used to make the data was z = 0.5x - 2.7y - 2. \n",
    "2. I expected all the data to generally lie on the plane, because the plane is supposed to fit the general trend of the data. \n",
    "3. I would take the same approach to the 2D dataset to check if the linear regression code was working properly I would change the line `z_3d = 0.5*x_3d - 2.7*y_3d - 2 + noise_3d` by changing the coefficients. Then, I would check if `print_model_fit()` changed to reflect the new values.  \n",
    "4. There were a few minor differences between working with this and the 2D dataset. One was that the data did not have to be reshaped (not sure why), as well as some more code had to be written to graph the 3D data and mesh."
   ]
  },
  {
   "cell_type": "markdown",
   "metadata": {},
   "source": [
    "# Exercise Option #3 - Advanced Difficulty\n",
    "Write some code that will better fit quadratic data. "
   ]
  },
  {
   "cell_type": "code",
   "execution_count": 23,
   "metadata": {},
   "outputs": [],
   "source": [
    "MIN_X_QUAD = 0\n",
    "MAX_X_QUAD = 20\n",
    "NUM_INPUTS_QUAD = 50\n",
    "x_quadratic = numpy.random.uniform(low=MIN_X_QUAD, high=MAX_X_QUAD, size=(NUM_INPUTS_QUAD, 1))\n",
    "data_quadratic = pd.DataFrame(data=x_quadratic, columns=['x'])"
   ]
  },
  {
   "cell_type": "code",
   "execution_count": 24,
   "metadata": {},
   "outputs": [],
   "source": [
    "noise_quadratic = numpy.random.normal(size=NUM_INPUTS_QUAD)"
   ]
  },
  {
   "cell_type": "code",
   "execution_count": 25,
   "metadata": {},
   "outputs": [],
   "source": [
    "# y = x^2 - 20x + 1.5\n",
    "# vertex: -b/2a = 10 \n",
    "data_quadratic['y'] = data_quadratic['x']*data_quadratic['x']-20*data_quadratic['x']+1.5+noise_quadratic"
   ]
  },
  {
   "cell_type": "code",
   "execution_count": 26,
   "metadata": {},
   "outputs": [
    {
     "name": "stdout",
     "output_type": "stream",
     "text": [
      "Intercept: [-55.46468681] Coefficients: [[-1.11470036]]\n"
     ]
    },
    {
     "data": {
      "image/png": "[encoded data removed]",
      "text/plain": [
       "<Figure size 432x288 with 1 Axes>"
      ]
     },
     "metadata": {
      "needs_background": "light"
     },
     "output_type": "display_data"
    }
   ],
   "source": [
    "x_quadratic = data_quadratic['x'].values.reshape(-1, 1)\n",
    "y_quadratic = data_quadratic['y'].values.reshape(-1, 1)\n",
    "model_quadratic = linear_model.LinearRegression() # generate model\n",
    "model_quadratic.fit(x_quadratic, y_quadratic) # fit model\n",
    "# show results\n",
    "print_model_fit(model_quadratic)\n",
    "linear_regression_against_data(model_quadratic, x_quadratic, y_quadratic, MIN_X_QUAD, MAX_X_QUAD)"
   ]
  },
  {
   "cell_type": "code",
   "execution_count": 27,
   "metadata": {},
   "outputs": [],
   "source": [
    "half = int(NUM_INPUTS_QUAD/2)\n",
    "# learned how reshape() works from https://stackoverflow.com/questions/18691084/what-does-1-mean-in-numpy-reshape\n",
    "# reshape x and y data to 1D arrays \n",
    "x_quadratic = x_quadratic.reshape(1, -1)[0]\n",
    "y_quadratic = y_quadratic.reshape(1, -1)[0]\n",
    "# combine x and y data into array of tuples where in each tuple, first element is x and second is y \n",
    "x_y_combined = []\n",
    "for i in range(0, NUM_INPUTS_QUAD):\n",
    "    x_y_combined.append((x_quadratic[i], y_quadratic[i]))\n",
    "# learned how to sort from https://algocoding.wordpress.com/2015/04/14/how-to-sort-a-list-of-tuples-in-python-3-4/#:~:text=Note%3A%20As%20usual%20in%20programming,itemgetter(1)%20.&text=If%20we%20want%20to%20sort,we%20simply%20set%20reverse%20%3D%20True%20.\n",
    "# sort x and y data by x values, ascending\n",
    "x_y_combined.sort(key = operator.itemgetter(0))\n",
    "\n",
    "x_quadratic = []\n",
    "y_quadratic = []\n",
    "for tuple in x_y_combined:\n",
    "    x_quadratic.append([tuple[0]])\n",
    "    y_quadratic.append([tuple[1]])\n",
    "# split sorted dataset into two halves\n",
    "x_quadratic_left = x_quadratic[0:half]\n",
    "y_quadratic_left = y_quadratic[0:half]\n",
    "x_quadratic_right = x_quadratic[half:(NUM_INPUTS_QUAD-1)]\n",
    "y_quadratic_right = y_quadratic[half:(NUM_INPUTS_QUAD-1)]"
   ]
  },
  {
   "cell_type": "code",
   "execution_count": 28,
   "metadata": {},
   "outputs": [
    {
     "data": {
      "text/plain": [
       "LinearRegression()"
      ]
     },
     "execution_count": 28,
     "metadata": {},
     "output_type": "execute_result"
    }
   ],
   "source": [
    "model_quadratic_left = linear_model.LinearRegression() # generate left-half model\n",
    "model_quadratic_left.fit(x_quadratic_left, y_quadratic_left) # fit left-half model\n",
    "model_quadratic_right = linear_model.LinearRegression() # generate right-half model\n",
    "model_quadratic_right.fit(x_quadratic_right, y_quadratic_right) # fit right-half model"
   ]
  },
  {
   "cell_type": "code",
   "execution_count": 29,
   "metadata": {},
   "outputs": [
    {
     "data": {
      "image/png": "[encoded data removed]",
      "text/plain": [
       "<Figure size 432x288 with 1 Axes>"
      ]
     },
     "metadata": {
      "needs_background": "light"
     },
     "output_type": "display_data"
    }
   ],
   "source": [
    "linear_regression_against_data(model_quadratic_left, x_quadratic_left, y_quadratic_left, MIN_X_QUAD, MAX_X_QUAD)\n",
    "linear_regression_against_data(model_quadratic_right, x_quadratic_right, y_quadratic_right, MIN_X_QUAD, MAX_X_QUAD)"
   ]
  },
  {
   "cell_type": "markdown",
   "metadata": {},
   "source": [
    "# My Solution to Exercise #3\n",
    "As you can see in my code above, I first sorted the data by x-value, ascending. I then split the data into halves, with the first half being the left side of the parabola and the second half being the right side of the parabola. I then fit a model to each half.\n",
    "\n",
    "There is one problem with this approach: it assumes there is an equal amount of data of the left and right halves. When generating my data I kept this in mind to ensure that my approach would work.\n",
    "\n",
    "One potential method of getting around this issue is by determining the vertex of the parabola and then splitting the data accordingly. This in practice is quite difficult: you can't just pick the datapoint that has the smallest y-value, because that doesn't take in account that the parabola may open downwards. "
   ]
  },
  {
   "cell_type": "code",
   "execution_count": 32,
   "metadata": {},
   "outputs": [
    {
     "data": {
      "image/png": "[encoded data removed]",
      "text/plain": [
       "<Figure size 432x288 with 1 Axes>"
      ]
     },
     "metadata": {
      "needs_background": "light"
     },
     "output_type": "display_data"
    }
   ],
   "source": [
    "# https://scikit-learn.org/stable/auto_examples/linear_model/plot_polynomial_interpolation.html\n",
    "# https://scikit-learn.org/stable/modules/generated/sklearn.preprocessing.PolynomialFeatures.html#sklearn.preprocessing.PolynomialFeatures\n",
    "from sklearn.preprocessing import PolynomialFeatures\n",
    "from sklearn.pipeline import make_pipeline\n",
    "degree = 2 # quadratic \n",
    "model_polynomial=make_pipeline(PolynomialFeatures(degree), linear_model.LinearRegression()) # make model\n",
    "# from my understanding, what the above code does is replace the matrix used for the regression with a polynomial version of it\n",
    "model_polynomial.fit(x_quadratic, y_quadratic) # fit model\n",
    "linear_regression_against_data(model_polynomial, x_quadratic, y_quadratic, MIN_X_QUAD, MAX_X_QUAD)"
   ]
  },
  {
   "cell_type": "markdown",
   "metadata": {},
   "source": [
    "# My Second Solution to Exercise #4\n",
    "I just looked into the sklearn documentation on how to properly do polynomial regression. "
   ]
  },
  {
   "cell_type": "markdown",
   "metadata": {},
   "source": [
    "# Exercise Option #4 - Advanced Difficulty\n",
    "\n",
    "Add some [regularization](https://jennselby.github.io/MachineLearningCourseNotes/#regularization-ridge-lasso-and-elastic-net) to your linear regression model. "
   ]
  },
  {
   "cell_type": "code",
   "execution_count": null,
   "metadata": {},
   "outputs": [],
   "source": [
    "# https://scikit-learn.org/stable/modules/linear_model.html#ridge-regression-and-classification\n",
    "#model_with_regularization = linear_model.Ridge(alpha=.5) # make model with Ridge regularization \n",
    "# https://numpy.org/doc/stable/reference/generated/numpy.logspace.html\n",
    "# https://scikit-learn.org/stable/modules/generated/sklearn.linear_model.RidgeCV.html#sklearn.linear_model.RidgeCV\n",
    "model_with_regularization = linear_model.RidgeCV(alphas=np.logspace(-5, 5, 15), normalize=True) # make model with Ridge regularization w/ built in cross validation\n",
    "\n",
    "model_with_regularization.fit(X=reshaped_x, y=reshaped_y) # fit model to data \n",
    "model_without_regularization = model_one # model without regularization, already fitted \n",
    "# print coeficcients of two models for comparison \n",
    "print_model_fit(model_with_regularization) \n",
    "print_model_fit(model_without_regularization) \n",
    "# graph the two lines against the data \n",
    "linear_regression_against_data(model_with_regularization, reshaped_x, reshaped_y, MIN_X, MAX_X) \n",
    "linear_regression_against_data(model_without_regularization, reshaped_x, reshaped_y, MIN_X, MAX_X) "
   ]
  },
  {
   "cell_type": "code",
   "execution_count": 33,
   "metadata": {},
   "outputs": [
    {
     "data": {
      "image/png": "[encoded data removed]",
      "text/plain": [
       "<Figure size 432x288 with 1 Axes>"
      ]
     },
     "metadata": {
      "needs_background": "light"
     },
     "output_type": "display_data"
    }
   ],
   "source": [
    "degree = 2 # quadratic \n",
    "model_polynomial=make_pipeline(PolynomialFeatures(degree), linear_model.RidgeCV(alphas=np.logspace(-5, 5, 15), normalize=True)) # make polynomial model with Ridge regularization w/ built in cross validation\n",
    "# from my understanding, what the above code does is replace the matrix used for the regression with a polynomial version of it\n",
    "model_polynomial.fit(x_quadratic, y_quadratic) # fit model\n",
    "linear_regression_against_data(model_polynomial, x_quadratic, y_quadratic, MIN_X_QUAD, MAX_X_QUAD)"
   ]
  },
  {
   "cell_type": "markdown",
   "metadata": {},
   "source": [
    "# Solutions for #3 & #4 Combined\n",
    "I just used the same code as my second solution for #3, but instead of a regular linear model I used one with ridge regularization. "
   ]
  },
  {
   "cell_type": "code",
   "execution_count": null,
   "metadata": {},
   "outputs": [],
   "source": []
  }
 ],
 "metadata": {
  "kernelspec": {
   "display_name": "Python 3",
   "language": "python",
   "name": "python3"
  },
  "language_info": {
   "codemirror_mode": {
    "name": "ipython",
    "version": 3
   },
   "file_extension": ".py",
   "mimetype": "text/x-python",
   "name": "python",
   "nbconvert_exporter": "python",
   "pygments_lexer": "ipython3",
   "version": "3.8.5"
  }
 },
 "nbformat": 4,
 "nbformat_minor": 2
}
