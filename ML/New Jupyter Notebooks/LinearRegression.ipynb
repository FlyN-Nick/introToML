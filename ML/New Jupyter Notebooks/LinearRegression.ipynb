{
 "cells": [
  {
   "cell_type": "code",
   "execution_count": 1,
   "metadata": {},
   "outputs": [],
   "source": [
    "%matplotlib inline"
   ]
  },
  {
   "cell_type": "code",
   "execution_count": 2,
   "metadata": {},
   "outputs": [],
   "source": [
    "import numpy.random # generate noisy/random data\n",
    "from sklearn import linear_model # training linear model\n",
    "\n",
    "import matplotlib.pyplot # general plotting\n",
    "from mpl_toolkits.mplot3d import Axes3D # 3d plotting\n",
    "\n",
    "import pandas as pd\n",
    "import numpy as np \n",
    "import operator # used for sorting array of tuples "
   ]
  },
  {
   "cell_type": "code",
   "execution_count": 3,
   "metadata": {},
   "outputs": [],
   "source": [
    "MIN_X = -15\n",
    "MAX_X = 15\n",
    "NUM_INPUTS = 100"
   ]
  },
  {
   "cell_type": "code",
   "execution_count": 4,
   "metadata": {},
   "outputs": [
    {
     "data": {
      "text/html": [
       "<div>\n",
       "<style scoped>\n",
       "    .dataframe tbody tr th:only-of-type {\n",
       "        vertical-align: middle;\n",
       "    }\n",
       "\n",
       "    .dataframe tbody tr th {\n",
       "        vertical-align: top;\n",
       "    }\n",
       "\n",
       "    .dataframe thead th {\n",
       "        text-align: right;\n",
       "    }\n",
       "</style>\n",
       "<table border=\"1\" class=\"dataframe\">\n",
       "  <thead>\n",
       "    <tr style=\"text-align: right;\">\n",
       "      <th></th>\n",
       "      <th>x</th>\n",
       "    </tr>\n",
       "  </thead>\n",
       "  <tbody>\n",
       "    <tr>\n",
       "      <th>0</th>\n",
       "      <td>-7.496689</td>\n",
       "    </tr>\n",
       "    <tr>\n",
       "      <th>1</th>\n",
       "      <td>7.666190</td>\n",
       "    </tr>\n",
       "    <tr>\n",
       "      <th>2</th>\n",
       "      <td>11.092416</td>\n",
       "    </tr>\n",
       "    <tr>\n",
       "      <th>3</th>\n",
       "      <td>-13.916322</td>\n",
       "    </tr>\n",
       "    <tr>\n",
       "      <th>4</th>\n",
       "      <td>1.160474</td>\n",
       "    </tr>\n",
       "  </tbody>\n",
       "</table>\n",
       "</div>"
      ],
      "text/plain": [
       "           x\n",
       "0  -7.496689\n",
       "1   7.666190\n",
       "2  11.092416\n",
       "3 -13.916322\n",
       "4   1.160474"
      ]
     },
     "execution_count": 4,
     "metadata": {},
     "output_type": "execute_result"
    }
   ],
   "source": [
    "ran_x = numpy.random.uniform(low=MIN_X, high=MAX_X, size=(NUM_INPUTS, 1)) # type: [[float]]\n",
    "\n",
    "dataset = pd.DataFrame(data=ran_x, columns=['x'])\n",
    "dataset.head()"
   ]
  },
  {
   "cell_type": "code",
   "execution_count": 5,
   "metadata": {},
   "outputs": [
    {
     "data": {
      "text/plain": [
       "<AxesSubplot:xlabel='x', ylabel='y'>"
      ]
     },
     "execution_count": 5,
     "metadata": {},
     "output_type": "execute_result"
    },
    {
     "data": {
      "image/png": "[encoded data removed]",
      "text/plain": [
       "<Figure size 432x288 with 1 Axes>"
      ]
     },
     "metadata": {
      "needs_background": "light"
     },
     "output_type": "display_data"
    }
   ],
   "source": [
    "dataset['y'] = 0.3*dataset['x']+1 # line is y = 0.3x + 1, no noise yet\n",
    "dataset.plot.scatter(x='x', y='y')"
   ]
  },
  {
   "cell_type": "code",
   "execution_count": 6,
   "metadata": {},
   "outputs": [],
   "source": [
    "noise_y = numpy.random.normal(size=NUM_INPUTS) # generate noise using normal distribution  \n",
    "dataset['y'] = dataset['y']+noise_y # add noise to dataset "
   ]
  },
  {
   "cell_type": "code",
   "execution_count": 7,
   "metadata": {},
   "outputs": [
    {
     "data": {
      "text/plain": [
       "<AxesSubplot:xlabel='x', ylabel='y'>"
      ]
     },
     "execution_count": 7,
     "metadata": {},
     "output_type": "execute_result"
    },
    {
     "data": {
      "image/png": "[encoded data removed]",
      "text/plain": [
       "<Figure size 432x288 with 1 Axes>"
      ]
     },
     "metadata": {
      "needs_background": "light"
     },
     "output_type": "display_data"
    }
   ],
   "source": [
    "dataset.plot.scatter(x='x', y='y')"
   ]
  },
  {
   "cell_type": "code",
   "execution_count": 8,
   "metadata": {},
   "outputs": [],
   "source": [
    "model_one = linear_model.LinearRegression() # unfitted model"
   ]
  },
  {
   "cell_type": "code",
   "execution_count": 9,
   "metadata": {},
   "outputs": [
    {
     "name": "stdout",
     "output_type": "stream",
     "text": [
      "0     -7.496689\n",
      "1      7.666190\n",
      "2     11.092416\n",
      "3    -13.916322\n",
      "4      1.160474\n",
      "        ...    \n",
      "95    -5.877147\n",
      "96   -13.448794\n",
      "97    -3.827213\n",
      "98    -1.993509\n",
      "99    13.018413\n",
      "Name: x, Length: 100, dtype: float64\n",
      "0    -1.976010\n",
      "1     3.683071\n",
      "2     3.867023\n",
      "3    -3.677827\n",
      "4     2.214438\n",
      "        ...   \n",
      "95   -0.750668\n",
      "96   -2.288537\n",
      "97    1.071366\n",
      "98    0.901078\n",
      "99    5.362953\n",
      "Name: y, Length: 100, dtype: float64\n",
      "[[ -7.49668907]\n",
      " [  7.66618956]\n",
      " [ 11.09241591]\n",
      " [-13.91632178]\n",
      " [  1.1604744 ]\n",
      " [ -2.71546127]\n",
      " [ 10.32928151]\n",
      " [  6.11919036]\n",
      " [ -3.26277878]\n",
      " [  5.23589805]\n",
      " [ -6.30319303]\n",
      " [ -8.94234799]\n",
      " [  7.85964213]\n",
      " [  4.46907992]\n",
      " [  4.12987342]\n",
      " [  6.37090631]\n",
      " [-12.94846665]\n",
      " [ 13.21271595]\n",
      " [ -0.73970512]\n",
      " [ -9.0934197 ]\n",
      " [ -6.49627448]\n",
      " [  2.15711591]\n",
      " [ 13.29444944]\n",
      " [ 11.87376206]\n",
      " [ -0.32074131]\n",
      " [-14.15975877]\n",
      " [ 10.26210303]\n",
      " [  9.2311789 ]\n",
      " [ -2.54828157]\n",
      " [ -8.79403727]\n",
      " [  6.72021649]\n",
      " [ -8.35324638]\n",
      " [ 14.81492268]\n",
      " [ -8.48964692]\n",
      " [  2.7368479 ]\n",
      " [  6.39523285]\n",
      " [  4.98564351]\n",
      " [ -3.02070027]\n",
      " [ 10.81572689]\n",
      " [  5.490745  ]\n",
      " [  2.87913964]\n",
      " [ -9.80026769]\n",
      " [ 11.89079695]\n",
      " [  2.0012056 ]\n",
      " [ -8.12393188]\n",
      " [ -1.76089865]\n",
      " [ -5.6964908 ]\n",
      " [ 13.04339765]\n",
      " [-10.99991097]\n",
      " [ -6.89598133]\n",
      " [  1.96917326]\n",
      " [ 10.53466249]\n",
      " [-14.13000451]\n",
      " [ -7.30757081]\n",
      " [  8.05782525]\n",
      " [ -7.41412115]\n",
      " [-10.8957323 ]\n",
      " [ -3.47580905]\n",
      " [ 10.79721422]\n",
      " [  0.45864938]\n",
      " [ 13.29815665]\n",
      " [  1.6118508 ]\n",
      " [ -9.39663125]\n",
      " [-14.17302103]\n",
      " [-14.14209862]\n",
      " [-10.51514785]\n",
      " [  1.4295363 ]\n",
      " [-12.86293229]\n",
      " [ -1.58057536]\n",
      " [ -1.34012974]\n",
      " [ 13.98457915]\n",
      " [ 10.00323925]\n",
      " [  3.44200618]\n",
      " [-13.29584159]\n",
      " [ 10.9841942 ]\n",
      " [ -1.76215838]\n",
      " [ -6.8198265 ]\n",
      " [  7.47443696]\n",
      " [-14.72748605]\n",
      " [ -9.50067713]\n",
      " [  9.65359718]\n",
      " [ -2.08292104]\n",
      " [ 11.0214228 ]\n",
      " [ 13.87398198]\n",
      " [-10.92165366]\n",
      " [ -7.39371101]\n",
      " [-10.93963055]\n",
      " [ 11.25994511]\n",
      " [ -1.74926824]\n",
      " [ -3.36620771]\n",
      " [  4.90289777]\n",
      " [  4.6050151 ]\n",
      " [ 11.50802753]\n",
      " [ -2.6576361 ]\n",
      " [-10.72329026]\n",
      " [ -5.87714685]\n",
      " [-13.44879372]\n",
      " [ -3.82721289]\n",
      " [ -1.99350943]\n",
      " [ 13.01841289]]\n",
      "[[-1.97600975e+00]\n",
      " [ 3.68307110e+00]\n",
      " [ 3.86702290e+00]\n",
      " [-3.67782690e+00]\n",
      " [ 2.21443842e+00]\n",
      " [ 1.52789915e-01]\n",
      " [ 4.34571940e+00]\n",
      " [ 2.61945319e+00]\n",
      " [-7.18325286e-01]\n",
      " [ 3.37811460e+00]\n",
      " [-1.23956471e+00]\n",
      " [-2.60253750e+00]\n",
      " [ 3.66582264e+00]\n",
      " [ 5.20011632e+00]\n",
      " [ 1.99430276e+00]\n",
      " [ 3.77698966e+00]\n",
      " [-3.89939728e+00]\n",
      " [ 5.11135034e+00]\n",
      " [-3.96440891e-01]\n",
      " [-1.20744629e+00]\n",
      " [-1.84451514e+00]\n",
      " [ 1.38705360e+00]\n",
      " [ 6.14475377e+00]\n",
      " [ 5.52558672e+00]\n",
      " [ 6.03722757e-03]\n",
      " [-4.54670225e+00]\n",
      " [ 3.45968240e+00]\n",
      " [ 4.72598008e+00]\n",
      " [ 3.39310134e-01]\n",
      " [-1.78110051e+00]\n",
      " [ 2.89350192e+00]\n",
      " [-4.31101850e-01]\n",
      " [ 5.97205680e+00]\n",
      " [-2.32851210e+00]\n",
      " [ 2.01642804e+00]\n",
      " [ 1.24899990e+00]\n",
      " [ 2.77857498e+00]\n",
      " [ 1.90047317e+00]\n",
      " [ 3.94869473e+00]\n",
      " [ 1.20278959e+00]\n",
      " [ 1.99165267e+00]\n",
      " [-1.96765406e+00]\n",
      " [ 4.15014773e+00]\n",
      " [ 6.64161693e-01]\n",
      " [-2.17526560e+00]\n",
      " [ 1.85604744e+00]\n",
      " [-9.50749792e-01]\n",
      " [ 5.07041755e+00]\n",
      " [-3.30149136e+00]\n",
      " [-8.93209568e-01]\n",
      " [ 1.02726224e+00]\n",
      " [ 4.40599003e+00]\n",
      " [-3.01425126e+00]\n",
      " [-2.40111927e+00]\n",
      " [ 2.37984779e+00]\n",
      " [-1.48729459e+00]\n",
      " [ 2.15183329e-01]\n",
      " [ 1.74681422e+00]\n",
      " [ 4.16811119e+00]\n",
      " [ 1.17899613e+00]\n",
      " [ 4.73596901e+00]\n",
      " [ 3.37360142e+00]\n",
      " [-1.26765394e+00]\n",
      " [-3.39953827e+00]\n",
      " [-2.32338421e+00]\n",
      " [-1.23147743e+00]\n",
      " [ 2.15888306e+00]\n",
      " [-2.96077061e+00]\n",
      " [-1.74890833e-01]\n",
      " [-3.81599445e-01]\n",
      " [ 5.27000625e+00]\n",
      " [ 4.17634597e+00]\n",
      " [ 2.10173700e+00]\n",
      " [-5.50711946e+00]\n",
      " [ 5.40954997e+00]\n",
      " [ 9.71406702e-01]\n",
      " [-1.35329826e+00]\n",
      " [ 3.65321225e+00]\n",
      " [-3.36143287e+00]\n",
      " [-1.17569577e+00]\n",
      " [ 2.86989062e+00]\n",
      " [ 9.11050324e-01]\n",
      " [ 3.96344027e+00]\n",
      " [ 4.74945846e+00]\n",
      " [-3.97313454e+00]\n",
      " [-1.84907494e+00]\n",
      " [-2.47905852e+00]\n",
      " [ 2.37711233e+00]\n",
      " [-1.15435865e+00]\n",
      " [-1.21471273e+00]\n",
      " [ 2.44125113e+00]\n",
      " [ 4.19402189e+00]\n",
      " [ 3.80527578e+00]\n",
      " [-4.89616068e-01]\n",
      " [-2.42205530e+00]\n",
      " [-7.50668073e-01]\n",
      " [-2.28853736e+00]\n",
      " [ 1.07136555e+00]\n",
      " [ 9.01078476e-01]\n",
      " [ 5.36295344e+00]]\n"
     ]
    }
   ],
   "source": [
    "print(dataset['x']) # see current shape of data \n",
    "print(dataset['y']) # see current shape of data \n",
    "reshaped_x = dataset['x'].values.reshape(-1, 1)\n",
    "reshaped_y = dataset['y'].values.reshape(-1, 1)\n",
    "print(reshaped_x) # see new shape \n",
    "print(reshaped_y) # see new shape"
   ]
  },
  {
   "cell_type": "code",
   "execution_count": 10,
   "metadata": {},
   "outputs": [
    {
     "data": {
      "text/plain": [
       "LinearRegression()"
      ]
     },
     "execution_count": 10,
     "metadata": {},
     "output_type": "execute_result"
    }
   ],
   "source": [
    "model_one.fit(X=reshaped_x, y=reshaped_y) # fit model to data "
   ]
  },
  {
   "cell_type": "code",
   "execution_count": 11,
   "metadata": {},
   "outputs": [],
   "source": [
    "# function to print weights of model \n",
    "def print_model_fit(model):\n",
    "    print('Intercept: {i} Coefficients: {c}'.format(i=model.intercept_, c=model.coef_))"
   ]
  },
  {
   "cell_type": "code",
   "execution_count": 12,
   "metadata": {},
   "outputs": [
    {
     "name": "stdout",
     "output_type": "stream",
     "text": [
      "Intercept: [0.97128168] Coefficients: [[0.31032914]]\n"
     ]
    }
   ],
   "source": [
    "print_model_fit(model_one) "
   ]
  },
  {
   "cell_type": "code",
   "execution_count": 13,
   "metadata": {},
   "outputs": [
    {
     "name": "stdout",
     "output_type": "stream",
     "text": [
      "Model prediction for -1.23: 0.589576838672745\n",
      "Model prediction for 0.66: 1.1760989173711338\n",
      "Model prediction for 1.98: 1.5857333850335005\n"
     ]
    }
   ],
   "source": [
    "new_x_values = [[-1.23], [0.66], [1.98]] # some random values to predict \n",
    "predictions = model_one.predict(new_x_values) \n",
    "for datapoint, prediction in zip(new_x_values, predictions):\n",
    "    print('Model prediction for {}: {}'.format(datapoint[0], prediction[0]))"
   ]
  },
  {
   "cell_type": "code",
   "execution_count": 14,
   "metadata": {},
   "outputs": [],
   "source": [
    "# scatter data and draw line on the same graph \n",
    "def linear_regression_against_data(model, data_x, data_y, MIN_X, MAX_X):\n",
    "        fig = matplotlib.pyplot.figure(1)\n",
    "        fig.suptitle('Data vs Regression')\n",
    "        matplotlib.pyplot.xlabel('x-axis')\n",
    "        matplotlib.pyplot.ylabel('y-axis')\n",
    "        \n",
    "        matplotlib.pyplot.scatter(data_x, data_y)\n",
    "        \n",
    "        all_X = numpy.linspace(MIN_X, MAX_X)\n",
    "        all_Y = model.predict(list(zip(all_X)))\n",
    "        matplotlib.pyplot.plot(all_X, all_Y)"
   ]
  },
  {
   "cell_type": "code",
   "execution_count": 15,
   "metadata": {},
   "outputs": [
    {
     "data": {
      "image/png": "[encoded data removed]",
      "text/plain": [
       "<Figure size 432x288 with 1 Axes>"
      ]
     },
     "metadata": {
      "needs_background": "light"
     },
     "output_type": "display_data"
    }
   ],
   "source": [
    "linear_regression_against_data(model_one, reshaped_x, reshaped_y, MIN_X, MAX_X)"
   ]
  },
  {
   "cell_type": "markdown",
   "metadata": {},
   "source": [
    "# Exercise Option #1 - Standard Exercise:\n",
    "Answers to questions about dataset 1. \n",
    "1. I expected `print_model_fit()` to print numbers similar to: `Intercept: [1] Coefficients: [[0.3]]` because the line used to make the data was y = 0.3x + 1. \n",
    "2. The expected numbers the model should have outputted when given the new numbers would be the num*.3 + 1 (if the model was perfect). So given the x-values -1.23, 0.66, and 1.98, I expected the model to predict the y-values 0.631, 1.198, and 1.594.\n",
    "3. I expected the line to generally follow the trend of all the points. \n",
    "4. The line of code I would change would be `dataset['y'] = 0.3*dataset['x']+1`. I would first change 0.3 to an arbitrary number, say 5.5, and would then run all the code after that. I would make sure that the output of `print_model_fit(model_one)` reported a new coefficent, one close to the new arbitrary number. This would make sure that the model didn't just happen to work with only m=0.3. A similar approach would be taken for the y-intercept. Doing both of these would ensure that the model was working properly. "
   ]
  },
  {
   "cell_type": "code",
   "execution_count": 16,
   "metadata": {},
   "outputs": [
    {
     "data": {
      "image/png": "[encoded data removed]",
      "text/plain": [
       "<Figure size 432x288 with 1 Axes>"
      ]
     },
     "metadata": {
      "needs_background": "light"
     },
     "output_type": "display_data"
    }
   ],
   "source": [
    "model_two = linear_model.LinearRegression()\n",
    "model_two.fit(X=reshaped_y, y=reshaped_x) # swapping x and y\n",
    "# since x and y have been swapped, we have to use the min and max y-values \n",
    "MIN_Y = 0.3*MIN_X+1\n",
    "MAX_Y = 0.3*MAX_X+1\n",
    "linear_regression_against_data(model_two, reshaped_y, reshaped_x, MIN_Y, MAX_Y)"
   ]
  },
  {
   "cell_type": "code",
   "execution_count": 17,
   "metadata": {},
   "outputs": [
    {
     "data": {
      "image/png": "[encoded data removed]",
      "text/plain": [
       "<Figure size 432x288 with 1 Axes>"
      ]
     },
     "metadata": {
      "needs_background": "light"
     },
     "output_type": "display_data"
    }
   ],
   "source": [
    "model_three = linear_model.LinearRegression()\n",
    "model_three.fit(X=reshaped_x, y=reshaped_x) # y = x\n",
    "linear_regression_against_data(model_three, reshaped_x, reshaped_x, MIN_X, MAX_X)"
   ]
  },
  {
   "cell_type": "code",
   "execution_count": 18,
   "metadata": {},
   "outputs": [],
   "source": [
    "MIN_X_3D = -10\n",
    "MAX_X_3D = 10\n",
    "NUM_INPUTS_3D = 50\n",
    "\n",
    "noise_3d = numpy.random.normal(size=NUM_INPUTS_3D)\n",
    "x_3d = numpy.random.uniform(low=MIN_X_3D, high=MAX_X_3D, size=NUM_INPUTS_3D)\n",
    "y_3d = numpy.random.uniform(low=MIN_X_3D, high=MAX_X_3D, size=NUM_INPUTS_3D)\n",
    "\n",
    "z_3d = 0.5*x_3d - 2.7*y_3d - 2 + noise_3d"
   ]
  },
  {
   "cell_type": "code",
   "execution_count": 19,
   "metadata": {},
   "outputs": [
    {
     "data": {
      "text/html": [
       "<div>\n",
       "<style scoped>\n",
       "    .dataframe tbody tr th:only-of-type {\n",
       "        vertical-align: middle;\n",
       "    }\n",
       "\n",
       "    .dataframe tbody tr th {\n",
       "        vertical-align: top;\n",
       "    }\n",
       "\n",
       "    .dataframe thead th {\n",
       "        text-align: right;\n",
       "    }\n",
       "</style>\n",
       "<table border=\"1\" class=\"dataframe\">\n",
       "  <thead>\n",
       "    <tr style=\"text-align: right;\">\n",
       "      <th></th>\n",
       "      <th>x</th>\n",
       "      <th>y</th>\n",
       "      <th>z</th>\n",
       "    </tr>\n",
       "  </thead>\n",
       "  <tbody>\n",
       "    <tr>\n",
       "      <th>0</th>\n",
       "      <td>-2.871354</td>\n",
       "      <td>6.731571</td>\n",
       "      <td>-20.936492</td>\n",
       "    </tr>\n",
       "    <tr>\n",
       "      <th>1</th>\n",
       "      <td>1.219214</td>\n",
       "      <td>4.914507</td>\n",
       "      <td>-14.294148</td>\n",
       "    </tr>\n",
       "    <tr>\n",
       "      <th>2</th>\n",
       "      <td>5.576518</td>\n",
       "      <td>-5.763748</td>\n",
       "      <td>16.418005</td>\n",
       "    </tr>\n",
       "    <tr>\n",
       "      <th>3</th>\n",
       "      <td>-8.504263</td>\n",
       "      <td>6.279873</td>\n",
       "      <td>-22.500035</td>\n",
       "    </tr>\n",
       "    <tr>\n",
       "      <th>4</th>\n",
       "      <td>2.341840</td>\n",
       "      <td>-6.748746</td>\n",
       "      <td>18.303747</td>\n",
       "    </tr>\n",
       "  </tbody>\n",
       "</table>\n",
       "</div>"
      ],
      "text/plain": [
       "          x         y          z\n",
       "0 -2.871354  6.731571 -20.936492\n",
       "1  1.219214  4.914507 -14.294148\n",
       "2  5.576518 -5.763748  16.418005\n",
       "3 -8.504263  6.279873 -22.500035\n",
       "4  2.341840 -6.748746  18.303747"
      ]
     },
     "execution_count": 19,
     "metadata": {},
     "output_type": "execute_result"
    }
   ],
   "source": [
    "data_3d = pd.DataFrame(data=x_3d, columns=['x'])\n",
    "data_3d['y'] = y_3d\n",
    "data_3d['z'] = z_3d\n",
    "\n",
    "data_3d.head()"
   ]
  },
  {
   "cell_type": "code",
   "execution_count": 20,
   "metadata": {},
   "outputs": [
    {
     "name": "stdout",
     "output_type": "stream",
     "text": [
      "Intercept: -2.005568637562214 Coefficients: [ 0.52110803 -2.70700344]\n"
     ]
    }
   ],
   "source": [
    "model_3d = linear_model.LinearRegression()\n",
    "model_3d.fit(data_3d[['x', 'y']], data_3d['z']) # why don't we have to reshape data in this example?\n",
    "\n",
    "print_model_fit(model_3d)"
   ]
  },
  {
   "cell_type": "code",
   "execution_count": 21,
   "metadata": {},
   "outputs": [],
   "source": [
    "def plot_3d(model, x, y, z, min, max):\n",
    "    fig = matplotlib.pyplot.figure(1)\n",
    "    fig.suptitle('3D Data vs Linear Plane')\n",
    "\n",
    "    axes = fig.gca(projection='3d') \n",
    "    axes.set_xlabel('x')\n",
    "    axes.set_ylabel('y')\n",
    "    axes.set_zlabel('z')\n",
    "    \n",
    "    axes.scatter(x, y, z)\n",
    "    \n",
    "    X = Y = numpy.arange(min, max, 0.05)\n",
    "    X, Y = numpy.meshgrid(X, Y)\n",
    "    Z = numpy.array(model.predict(list(zip(X.flatten(), Y.flatten())))).reshape(X.shape)\n",
    "    \n",
    "    axes.plot_surface(X, Y, Z, alpha=0.1)\n",
    "    matplotlib.pyplot.show()"
   ]
  },
  {
   "cell_type": "code",
   "execution_count": 22,
   "metadata": {},
   "outputs": [
    {
     "data": {
      "image/png": "[encoded data removed]",
      "text/plain": [
       "<Figure size 432x288 with 1 Axes>"
      ]
     },
     "metadata": {
      "needs_background": "light"
     },
     "output_type": "display_data"
    }
   ],
   "source": [
    "plot_3d(model_3d, x_3d, y_3d, z_3d, MIN_X_3D, MAX_X_3D)"
   ]
  },
  {
   "cell_type": "markdown",
   "metadata": {},
   "source": [
    "# Exercise Option #2 - Standard Difficulty\n",
    "\n",
    "1. I expected `print_model_fit()` to print: `Intercept: [-2] Coefficients: [0.5 -2.7]` because the line used to make the data was z = 0.5x - 2.7y - 2. \n",
    "2. I expected all the data to generally lie on the plane, because the plane is supposed to fit the general trend of the data. \n",
    "3. I would take the same approach to the 2D dataset to check if the linear regression code was working properly I would change the line `z_3d = 0.5*x_3d - 2.7*y_3d - 2 + noise_3d` by changing the coefficients. Then, I would check if `print_model_fit()` changed to reflect the new values.  \n",
    "4. There were a few minor differences between working with this and the 2D dataset. One was that the data did not have to be reshaped (not sure why), as well as some more code had to be written to graph the 3D data and mesh."
   ]
  },
  {
   "cell_type": "markdown",
   "metadata": {},
   "source": [
    "# Exercise Option #3 - Advanced Difficulty\n",
    "Write some code that will better fit quadratic data. "
   ]
  },
  {
   "cell_type": "code",
   "execution_count": 23,
   "metadata": {},
   "outputs": [],
   "source": [
    "MIN_X_QUAD = 0\n",
    "MAX_X_QUAD = 20\n",
    "NUM_INPUTS_QUAD = 50\n",
    "x_quadratic = numpy.random.uniform(low=MIN_X_QUAD, high=MAX_X_QUAD, size=(NUM_INPUTS_QUAD, 1))\n",
    "data_quadratic = pd.DataFrame(data=x_quadratic, columns=['x'])"
   ]
  },
  {
   "cell_type": "code",
   "execution_count": 24,
   "metadata": {},
   "outputs": [],
   "source": [
    "noise_quadratic = numpy.random.normal(size=NUM_INPUTS_QUAD)"
   ]
  },
  {
   "cell_type": "code",
   "execution_count": 25,
   "metadata": {},
   "outputs": [],
   "source": [
    "# y = x^2 - 20x + 1.5\n",
    "# vertex: -b/2a = 10 \n",
    "data_quadratic['y'] = data_quadratic['x']*data_quadratic['x']-20*data_quadratic['x']+1.5+noise_quadratic"
   ]
  },
  {
   "cell_type": "code",
   "execution_count": 26,
   "metadata": {},
   "outputs": [
    {
     "name": "stdout",
     "output_type": "stream",
     "text": [
      "Intercept: [-57.7115576] Coefficients: [[-1.16696166]]\n"
     ]
    },
    {
     "data": {
      "image/png": "[encoded data removed]",
      "text/plain": [
       "<Figure size 432x288 with 1 Axes>"
      ]
     },
     "metadata": {
      "needs_background": "light"
     },
     "output_type": "display_data"
    }
   ],
   "source": [
    "x_quadratic = data_quadratic['x'].values.reshape(-1, 1)\n",
    "y_quadratic = data_quadratic['y'].values.reshape(-1, 1)\n",
    "model_quadratic = linear_model.LinearRegression() # generate model\n",
    "model_quadratic.fit(x_quadratic, y_quadratic) # fit model\n",
    "# show results\n",
    "print_model_fit(model_quadratic)\n",
    "linear_regression_against_data(model_quadratic, x_quadratic, y_quadratic, MIN_X_QUAD, MAX_X_QUAD)"
   ]
  },
  {
   "cell_type": "code",
   "execution_count": 27,
   "metadata": {},
   "outputs": [],
   "source": [
    "half = int(NUM_INPUTS_QUAD/2)\n",
    "# learned how reshape() works from https://stackoverflow.com/questions/18691084/what-does-1-mean-in-numpy-reshape\n",
    "# reshape x and y data to 1D arrays \n",
    "x_quadratic = x_quadratic.reshape(1, -1)[0]\n",
    "y_quadratic = y_quadratic.reshape(1, -1)[0]\n",
    "# combine x and y data into array of tuples where in each tuple, first element is x and second is y \n",
    "x_y_combined = []\n",
    "for i in range(0, NUM_INPUTS_QUAD):\n",
    "    x_y_combined.append((x_quadratic[i], y_quadratic[i]))\n",
    "# learned how to sort from https://algocoding.wordpress.com/2015/04/14/how-to-sort-a-list-of-tuples-in-python-3-4/#:~:text=Note%3A%20As%20usual%20in%20programming,itemgetter(1)%20.&text=If%20we%20want%20to%20sort,we%20simply%20set%20reverse%20%3D%20True%20.\n",
    "# sort x and y data by x values, ascending\n",
    "x_y_combined.sort(key = operator.itemgetter(0))\n",
    "\n",
    "x_quadratic = []\n",
    "y_quadratic = []\n",
    "for tuple in x_y_combined:\n",
    "    x_quadratic.append([tuple[0]])\n",
    "    y_quadratic.append([tuple[1]])\n",
    "# split sorted dataset into two halves\n",
    "x_quadratic_left = x_quadratic[0:half]\n",
    "y_quadratic_left = y_quadratic[0:half]\n",
    "x_quadratic_right = x_quadratic[half:(NUM_INPUTS_QUAD-1)]\n",
    "y_quadratic_right = y_quadratic[half:(NUM_INPUTS_QUAD-1)]"
   ]
  },
  {
   "cell_type": "code",
   "execution_count": 28,
   "metadata": {},
   "outputs": [
    {
     "data": {
      "text/plain": [
       "LinearRegression()"
      ]
     },
     "execution_count": 28,
     "metadata": {},
     "output_type": "execute_result"
    }
   ],
   "source": [
    "model_quadratic_left = linear_model.LinearRegression() # generate left-half model\n",
    "model_quadratic_left.fit(x_quadratic_left, y_quadratic_left) # fit left-half model\n",
    "model_quadratic_right = linear_model.LinearRegression() # generate right-half model\n",
    "model_quadratic_right.fit(x_quadratic_right, y_quadratic_right) # fit right-half model"
   ]
  },
  {
   "cell_type": "code",
   "execution_count": 29,
   "metadata": {},
   "outputs": [
    {
     "data": {
      "image/png": "[encoded data removed]",
      "text/plain": [
       "<Figure size 432x288 with 1 Axes>"
      ]
     },
     "metadata": {
      "needs_background": "light"
     },
     "output_type": "display_data"
    }
   ],
   "source": [
    "linear_regression_against_data(model_quadratic_left, x_quadratic_left, y_quadratic_left, MIN_X_QUAD, MAX_X_QUAD)\n",
    "linear_regression_against_data(model_quadratic_right, x_quadratic_right, y_quadratic_right, MIN_X_QUAD, MAX_X_QUAD)"
   ]
  },
  {
   "cell_type": "markdown",
   "metadata": {},
   "source": [
    "# My Solution to Exercise #3\n",
    "As you can see in my code above, I first sorted the data by x-value, ascending. I then split the data into halves, with the first half being the left side of the parabola and the second half being the right side of the parabola. I then fit a model to each half.\n",
    "\n",
    "There is one problem with this approach: it assumes there is an equal amount of data of the left and right halves. When generating my data I kept this in mind to ensure that my approach would work.\n",
    "\n",
    "One potential method of getting around this issue is by determining the vertex of the parabola and then splitting the data accordingly. This in practice is quite difficult: you can't just pick the datapoint that has the smallest y-value, because that doesn't take in account that the parabola may open downwards. "
   ]
  },
  {
   "cell_type": "markdown",
   "metadata": {},
   "source": [
    "# Exercise Option #4 - Advanced Difficulty\n",
    "\n",
    "Add some [regularization](https://jennselby.github.io/MachineLearningCourseNotes/#regularization-ridge-lasso-and-elastic-net) to your linear regression model. "
   ]
  },
  {
   "cell_type": "code",
   "execution_count": 30,
   "metadata": {},
   "outputs": [
    {
     "name": "stdout",
     "output_type": "stream",
     "text": [
      "Intercept: [0.97124262] Coefficients: [[0.30989854]]\n",
      "Intercept: [0.97128168] Coefficients: [[0.31032914]]\n"
     ]
    },
    {
     "data": {
      "image/png": "[encoded data removed]",
      "text/plain": [
       "<Figure size 432x288 with 1 Axes>"
      ]
     },
     "metadata": {
      "needs_background": "light"
     },
     "output_type": "display_data"
    }
   ],
   "source": [
    "# https://scikit-learn.org/stable/modules/linear_model.html#ridge-regression-and-classification\n",
    "#model_with_regularization = linear_model.Ridge(alpha=.5) # make model with Ridge regularization \n",
    "# https://numpy.org/doc/stable/reference/generated/numpy.logspace.html\n",
    "# https://scikit-learn.org/stable/modules/generated/sklearn.linear_model.RidgeCV.html#sklearn.linear_model.RidgeCV\n",
    "model_with_regularization = linear_model.RidgeCV(alphas=np.logspace(-5, 5, 15), normalize=True) # make model with Ridge regularization w/ built in cross validation\n",
    "\n",
    "model_with_regularization.fit(X=reshaped_x, y=reshaped_y) # fit model to data \n",
    "model_without_regularization = model_one # model without regularization, already fitted \n",
    "# print coeficcients of two models for comparison \n",
    "print_model_fit(model_with_regularization) \n",
    "print_model_fit(model_without_regularization) \n",
    "# graph the two lines against the data \n",
    "linear_regression_against_data(model_with_regularization, reshaped_x, reshaped_y, MIN_X, MAX_X) \n",
    "linear_regression_against_data(model_without_regularization, reshaped_x, reshaped_y, MIN_X, MAX_X) "
   ]
  },
  {
   "cell_type": "code",
   "execution_count": null,
   "metadata": {},
   "outputs": [],
   "source": []
  }
 ],
 "metadata": {
  "kernelspec": {
   "display_name": "Python 3",
   "language": "python",
   "name": "python3"
  },
  "language_info": {
   "codemirror_mode": {
    "name": "ipython",
    "version": 3
   },
   "file_extension": ".py",
   "mimetype": "text/x-python",
   "name": "python",
   "nbconvert_exporter": "python",
   "pygments_lexer": "ipython3",
   "version": "3.8.5"
  }
 },
 "nbformat": 4,
 "nbformat_minor": 2
}
